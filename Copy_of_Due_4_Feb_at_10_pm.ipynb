{
  "nbformat": 4,
  "nbformat_minor": 0,
  "metadata": {
    "colab": {
      "provenance": [],
      "include_colab_link": true
    },
    "kernelspec": {
      "name": "python3",
      "display_name": "Python 3"
    },
    "language_info": {
      "name": "python"
    }
  },
  "cells": [
    {
      "cell_type": "markdown",
      "metadata": {
        "id": "view-in-github",
        "colab_type": "text"
      },
      "source": [
        "<a href=\"https://colab.research.google.com/github/jpwrk/DS1002/blob/main/Copy_of_Due_4_Feb_at_10_pm.ipynb\" target=\"_parent\"><img src=\"https://colab.research.google.com/assets/colab-badge.svg\" alt=\"Open In Colab\"/></a>"
      ]
    },
    {
      "cell_type": "markdown",
      "source": [
        "## DS 1002 homework due Sunday Feb 4 at 10 pm\n"
      ],
      "metadata": {
        "id": "zAw2bmn-TjFJ"
      }
    },
    {
      "cell_type": "markdown",
      "source": [
        "\n",
        "The notebook from Wednesday's class is in my GitHib repository, including the little script we wrote at the end to find mangos in a list of fruit.  The file is called `MorePythonBasics.ipynb`.\n",
        "\n",
        "(By the way I wondered if the correct spelling was \"mangos\" or \"mangoes\" and I found [this](https://www.mango.org/blog-mangos-or-mangoes/)!  Who knew?  There's a National Mango Board!  And they're prepared to adjudicate this and other difficult mango-related questions.)\n",
        "\n",
        "\n"
      ],
      "metadata": {
        "id": "Cmf4xleCSWCu"
      }
    },
    {
      "cell_type": "markdown",
      "source": [
        "### Problem 1:  finding fruit\n",
        "\n",
        "Adapt the function we wrote in class so that it takes two arguments,\n",
        "\n",
        "`fruit` and `hungryfor` ,\n",
        "\n",
        "and then searches through the list `fruit` for the item `hungryfor`.  The line that calls the function should look like\n",
        "\n",
        "`find_fruit(food, hungryfor)`\n",
        "\n",
        "Make it print out the results in the same way, so for example if `food` is what we entered in class and `hungryfor = \"tomatoes\"` then the output will be\n",
        "\n",
        "```python\n",
        "No tomatoes here.\n",
        "No tomatoes here.\n",
        "No tomatoes here.\n",
        "No tomatoes here.\n",
        "No tomatoes here.\n",
        "```\n",
        "Test your code by changing the values of `food` and `hungryfor` and make sure the output is what you expect.  Show a few outputs, each in its own code chunk.\n",
        "\n"
      ],
      "metadata": {
        "id": "rJLyGryAThhp"
      }
    },
    {
      "cell_type": "code",
      "source": [
        "fruit = [\"apples\", \"oranges\", \"mangos\", \"peaches\", \"blueberries\"]\n",
        "hungryfor = \"tomatoes\"\n",
        "\n",
        "\n",
        "def find_fruit(fruit, hungryfor):\n",
        "  for f in fruit:\n",
        "    if f == hungryfor :\n",
        "      print (\"hooray jksdhkshf\")\n",
        "    else:\n",
        "      print(\"No \" + hungryfor + \" here.\")\n",
        "\n",
        "#calling function\n",
        "find_fruit(fruit, hungryfor)"
      ],
      "metadata": {
        "colab": {
          "base_uri": "https://localhost:8080/"
        },
        "id": "2b1p-Iq2l6z0",
        "outputId": "d9c4730f-05cb-4cd9-9542-b0b8fc140067"
      },
      "execution_count": 35,
      "outputs": [
        {
          "output_type": "stream",
          "name": "stdout",
          "text": [
            "No tomatoes here.\n",
            "No tomatoes here.\n",
            "No tomatoes here.\n",
            "No tomatoes here.\n",
            "No tomatoes here.\n"
          ]
        }
      ]
    },
    {
      "cell_type": "code",
      "source": [
        "fruit = [\"apples\", \"oranges\", \"mangos\", \"tomatoes\", \"blueberries\"]\n",
        "hungryfor = \"tomatoes\"\n",
        "\n",
        "\n",
        "def find_fruit(fruit, hungryfor):\n",
        "  for f in fruit:\n",
        "    if f == hungryfor :\n",
        "      print (\"hooray jksdhkshf\")\n",
        "    else:\n",
        "      print(\"No \" + hungryfor + \" here.\")\n",
        "\n",
        "#calling function\n",
        "find_fruit(fruit, hungryfor)"
      ],
      "metadata": {
        "colab": {
          "base_uri": "https://localhost:8080/"
        },
        "id": "QajXswETmkSm",
        "outputId": "499e85fe-6bf2-4e58-b43c-d6bc588f6480"
      },
      "execution_count": 38,
      "outputs": [
        {
          "output_type": "stream",
          "name": "stdout",
          "text": [
            "No tomatoes here.\n",
            "No tomatoes here.\n",
            "No tomatoes here.\n",
            "hooray jksdhkshf\n",
            "No tomatoes here.\n"
          ]
        }
      ]
    },
    {
      "cell_type": "code",
      "source": [
        "fruit = [\"apples\", \"oranges\", \"mangos\", \"tomatoes\", \"blueberries\"]\n",
        "hungryfor = \"tomatoes\"\n",
        "\n",
        "\n",
        "def find_fruit(fruit, hungryfor):\n",
        "  for f in fruit:\n",
        "    if f == hungryfor :\n",
        "      print (\"hooray jksdhkshf\")\n",
        "    else:\n",
        "      print(\"No \" + hungryfor + \" here.\")\n",
        "\n",
        "#calling function\n",
        "find_fruit(fruit, hungryfor)\n",
        "\n"
      ],
      "metadata": {
        "colab": {
          "base_uri": "https://localhost:8080/"
        },
        "id": "kU3RfF0LmsaV",
        "outputId": "cd9de1b6-dfa1-41af-d72b-e76aeefd33a1"
      },
      "execution_count": 71,
      "outputs": [
        {
          "output_type": "stream",
          "name": "stdout",
          "text": [
            "No tomatoes here.\n",
            "No tomatoes here.\n",
            "No tomatoes here.\n",
            "hooray jksdhkshf\n",
            "No tomatoes here.\n"
          ]
        }
      ]
    },
    {
      "cell_type": "markdown",
      "source": [
        "#### Notes\n",
        "1. Once you have run a code chunk in the notebook, it will remember that it has been run.  You don't have to call the function in the same code chunk where the function is defined.  In other words, to call the function with new inputs you can simply make a new code chunk, change the inputs, and call the function.  *You don't have to retype the definition of the function each time.*\n",
        "\n",
        "2. Make sure you clean things up when you're done, so you don't include old code that doesn't work or old incorrect outputs.\n"
      ],
      "metadata": {
        "id": "AMp-a1ym6W7w"
      }
    },
    {
      "cell_type": "markdown",
      "source": [
        "### Problem 2:  the `input()` function\n",
        "\n",
        "(a) Programming gets way more fun when you start to interact with your own programs!  Here is a function that lets you start doing that.  Run the following code and see what happens:\n"
      ],
      "metadata": {
        "id": "R-s9cZ6GYWNX"
      }
    },
    {
      "cell_type": "code",
      "source": [
        "input()\n",
        "print(\"Hello there!\")"
      ],
      "metadata": {
        "id": "IEK8O2qNYkXn",
        "colab": {
          "base_uri": "https://localhost:8080/"
        },
        "outputId": "53d7184e-c9fd-428b-c39e-23ac7ee25035"
      },
      "execution_count": 40,
      "outputs": [
        {
          "output_type": "stream",
          "name": "stdout",
          "text": [
            "hi\n",
            "Hello there!\n"
          ]
        }
      ]
    },
    {
      "cell_type": "markdown",
      "source": [
        "(b) As you just saw, the code waits for you to enter something before it continues.  If you want to actually use the input in the code, you should assign its value to a variable:"
      ],
      "metadata": {
        "id": "sktZu8wWzFF6"
      }
    },
    {
      "cell_type": "code",
      "source": [
        "message = input(\"what is your message? \")\n",
        "print(message)"
      ],
      "metadata": {
        "id": "fMmBkzbyz9Ty",
        "colab": {
          "base_uri": "https://localhost:8080/"
        },
        "outputId": "42cdc4d7-ad45-4653-aeb0-d017b4c65c75"
      },
      "execution_count": null,
      "outputs": [
        {
          "name": "stdout",
          "output_type": "stream",
          "text": [
            "what is your message? hello\n"
          ]
        }
      ]
    },
    {
      "cell_type": "markdown",
      "source": [
        "(c) Now you can start interacting.  Write some code that asks the user what they are hungry for (using a print statement), and then takes the user input, and then runs the `find_fruit` function from the previous code block using the user input as the `hungryfor` variable.  Test your code, and then include a few different outputs that demonstrate that the code works."
      ],
      "metadata": {
        "id": "ny41z-dQYmjQ"
      }
    },
    {
      "cell_type": "code",
      "source": [
        "print(\"what are you hungry for?\")\n",
        "if input() == \"tomatoes\" :\n",
        "    print(find_fruit(fruit, hungryfor))\n",
        "else :\n",
        "    print(\"nothing to eat here\")"
      ],
      "metadata": {
        "id": "SKAVoAZ00xOx",
        "colab": {
          "base_uri": "https://localhost:8080/"
        },
        "outputId": "fd7c734d-db8f-4462-e4c1-bc000f6801c4"
      },
      "execution_count": 77,
      "outputs": [
        {
          "output_type": "stream",
          "name": "stdout",
          "text": [
            "what are you hungry for?\n",
            "tomatoes\n",
            "No tomatoes here.\n",
            "No tomatoes here.\n",
            "No tomatoes here.\n",
            "hooray jksdhkshf\n",
            "No tomatoes here.\n",
            "None\n"
          ]
        }
      ]
    },
    {
      "cell_type": "code",
      "source": [
        "print(\"what are you hungry for?\")\n",
        "if input() == \"tomatoes\" :\n",
        "    print(find_fruit(fruit, hungryfor))\n",
        "else :\n",
        "    print(\"nothing to eat here\")"
      ],
      "metadata": {
        "colab": {
          "base_uri": "https://localhost:8080/"
        },
        "id": "9o3xfYdntBSD",
        "outputId": "065cbf25-4225-44b1-a1bb-801f0bc6c7cf"
      },
      "execution_count": 78,
      "outputs": [
        {
          "output_type": "stream",
          "name": "stdout",
          "text": [
            "what are you hungry for?\n",
            "mangos\n",
            "nothing to eat here\n"
          ]
        }
      ]
    },
    {
      "cell_type": "code",
      "source": [
        "hungryfor = \"mangos\"\n",
        "print(\"what are you hungry for?\")\n",
        "if input() == \"mangos\" :\n",
        "    print(find_fruit(fruit, hungryfor))\n",
        "else :\n",
        "    print(\"nothing to eat here\")"
      ],
      "metadata": {
        "colab": {
          "base_uri": "https://localhost:8080/"
        },
        "id": "4ALx-fj-tHOQ",
        "outputId": "ca069bea-9f05-48d4-d7ce-08dd46b97c99"
      },
      "execution_count": 80,
      "outputs": [
        {
          "output_type": "stream",
          "name": "stdout",
          "text": [
            "what are you hungry for?\n",
            "mangos\n",
            "No mangos here.\n",
            "No mangos here.\n",
            "hooray jksdhkshf\n",
            "No mangos here.\n",
            "No mangos here.\n",
            "None\n"
          ]
        }
      ]
    },
    {
      "cell_type": "markdown",
      "source": [
        "### Problem 3:  ratings  \n",
        "Write a piece of code which prompts a user with the question \"What is your rating? (1-10)\" and then asks for user input.  Let's say the input is 3.  Once the input is received, print out a message that says.\n",
        "\n",
        "\"Your rating is *** .\"\n",
        "\n",
        "Obviously, your program should print the number of stars corresponding to the input!  If the input is 5, it should print\n",
        "\n",
        "\"Your rating is ***** .\"\n",
        "\n",
        "Show at least two outputs of your code."
      ],
      "metadata": {
        "id": "5CWOlHBz0xoZ"
      }
    },
    {
      "cell_type": "code",
      "source": [
        "# you might have to copy the code to show another output\n",
        "# (unless you figure out another way to do it)"
      ],
      "metadata": {
        "id": "nxm67oCk8Ukn"
      },
      "execution_count": null,
      "outputs": []
    },
    {
      "cell_type": "code",
      "source": [
        "user_rating = input(\"What is your rating? (1-10) \")\n",
        "user_rating = int(user_rating)\n",
        "\n",
        "print(\"Your rating is \" + ('*' * user_rating))\n"
      ],
      "metadata": {
        "colab": {
          "base_uri": "https://localhost:8080/"
        },
        "id": "ooE8EUEj52gP",
        "outputId": "cd70d213-8af9-4b18-a5ac-59ea84952303"
      },
      "execution_count": 181,
      "outputs": [
        {
          "output_type": "stream",
          "name": "stdout",
          "text": [
            "What is your rating? (1-10) 3\n",
            "Your rating is ***\n"
          ]
        }
      ]
    },
    {
      "cell_type": "code",
      "source": [
        "user_rating = input(\"What is your rating? (1-10) \")\n",
        "user_rating = int(user_rating)\n",
        "\n",
        "print(\"Your rating is \" + ('*' * user_rating))"
      ],
      "metadata": {
        "colab": {
          "base_uri": "https://localhost:8080/"
        },
        "id": "wvX3OIe99dQw",
        "outputId": "dc801efe-2230-432f-f1e8-e8c499a1f285"
      },
      "execution_count": 183,
      "outputs": [
        {
          "output_type": "stream",
          "name": "stdout",
          "text": [
            "What is your rating? (1-10) 8\n",
            "Your rating is ********\n"
          ]
        }
      ]
    },
    {
      "cell_type": "markdown",
      "source": [
        "You do not have to do this as part of the assignment, but one thing to think about with any code that has **interactivity** is that you want to make it **robust**.  This means you should imagine someone is *trying* to break your code, and you should try to make it as indestructible as possible.\n",
        "\n",
        "What will happen to your code if someone enters 3.5?  Or -12?  Or \"nonsense\"?  Test it and see.  Think about how you might guard against errors.\n"
      ],
      "metadata": {
        "id": "VRfc9puT2yac"
      }
    }
  ]
}