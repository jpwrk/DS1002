{
  "cells": [
    {
      "cell_type": "markdown",
      "metadata": {
        "id": "view-in-github",
        "colab_type": "text"
      },
      "source": [
        "<a href=\"https://colab.research.google.com/github/jpwrk/DS1002/blob/main/Copy_of_10_Bulls_Cows_ipyn.ipynb\" target=\"_parent\"><img src=\"https://colab.research.google.com/assets/colab-badge.svg\" alt=\"Open In Colab\"/></a>"
      ]
    },
    {
      "cell_type": "markdown",
      "metadata": {
        "id": "lSwr8T3SNrkj"
      },
      "source": [
        "## Bulls and Cows:\n",
        "### Another guessing game.\n",
        "### Assignment due Wednesday 10 April at 10 am\n",
        "\n",
        "General instructions:\n",
        "\n",
        "1. You may work in teams of up to three people.  As usual, if you do this, make sure all names are clearly displayed at the top of your submission, and all team members should submit the same GitHub URL.\n",
        "\n",
        "1. Use only basic Python code.  Do not use `numpy` arrays or functions.\n",
        "\n",
        "2. Practice utilizing the coding concepts we have studied.  \n",
        "\n",
        "3. Write docstrings for all your functions.\n",
        "\n"
      ]
    },
    {
      "cell_type": "markdown",
      "metadata": {
        "id": "qrWRyeI2NwHA"
      },
      "source": [
        "### Goal:  program this game\n",
        "In this assignment you will program a version of an old game called Bulls and Cows.  It is somewhat similar to Wordle, but with numbers instead of words (and various other differences . . . read carefully!).\n",
        "\n",
        "The game is played like this:  \n",
        "1. The computer will choose a secret code that the player is trying to guess.\n",
        "2. The secret code will be 4 digits long.  It will use only the digits 1-6, and it will have no repeated digits.  For example the secret code might be 1326 or 6241 but it cannot be 2652 or 4913 or 2601.\n",
        "3. The computer will prompt the user for a guess, and the user will guess.  The guess must follow the same rules (4 digits long, only use digits 1-6, no repeats).  The program should not allow an invalid guess.\n",
        "4. After each guess, the computer will give feedback to the user as follows:  \n",
        "(i) Each digit of the guess that is in the secret code and in the correct position is called a Bull (B).  \n",
        "(ii) Each digit of the guess that exists somewhere in the secret code, but *not* in the same position as in the guess, is called a Cow (C).  \n",
        "(iii) A digit of the guess that doesn't occur anywhere in the secret code is called a miss (X).  \n",
        "The computer will inform the user how many Bulls, how many Cows, and how many misses the user's guess had.  \n",
        "The feedback will always start with B's, then list C's, then list X's.  \n",
        "For example if the secret code is 1326  \n",
        "and the guess is 4316  \n",
        "then the computer should respond with \"BBCX\"  \n",
        "because there are two Bulls (the 3 and the 6 are Bulls, because they occur in the same position in the guess as in the secret code),  \n",
        "one Cow (the 1, which is a correct digit but in the wrong position),  \n",
        "and one Miss (the 4, which does not occur anywhere in the secret code).  \n",
        "> **Important:** the feedback string should always list the Bulls first, then the Cows, then the Misses.  It should **not** tell the user which digits are which!  The only information in the feedback string is how many of each there are.  In the example above, for instance, the feedback is **not** \"XBCB\" but rather \"BBCX\".  This is different from Wordle, if you are familiar with that game.\n",
        "5. The user should then be prompted for another guess.  This guess-with-feedback process should be repeated until the user gets the correct code, at which point the computer should indicate that they have won the game.  However, the user should only be allowed 6 guesses; if they don't guess correctly in 6 attempts, then following the feedback from their final guess they should get a message that they have lost the game, and the secret code should be revealed.\n",
        "\n",
        "\n",
        "\n",
        "\n",
        "\n",
        "\n",
        "\n"
      ]
    },
    {
      "cell_type": "markdown",
      "source": [
        "### Steps\n",
        "We will build this game using several functions.  \n",
        "\n",
        "1. **Count the Bulls:**  \n",
        "Write a function that takes two lists of the same length, and returns the number of Bulls.  That is, it should return the number of indices where the lists contain the same element.  *(Note:  you don't have to check that the entries are between 1 and 6, or that there are no repeats, etc.  A different function will do that.)*\n",
        "\n",
        "> A sample run might look like\n",
        "```\n",
        "first = [11, 3, 17, 5, 1]\n",
        "second = [20, 2, 17, 3, 1]\n",
        "count_bulls(first,second)\n",
        "```\n",
        "```\n",
        " 2\n",
        "```\n"
      ],
      "metadata": {
        "id": "XSH1JULaurD1"
      }
    },
    {
      "cell_type": "markdown",
      "source": [
        "Define your function in the code chunk below.  The function definition command and the return command are pre-populated for you.  You just have to fill in the part which does the actual counting.  I recommend using a list comprehension to do this.\n"
      ],
      "metadata": {
        "id": "pXoOyBk7xmPa"
      }
    },
    {
      "cell_type": "code",
      "source": [
        "# the Bull-counting function\n",
        "def count_bulls(first, second):\n",
        "  '''\n",
        "  Takes two lists of the same length and computes the number of positions where the list entries agree.\n",
        "  '''\n",
        "  num_bulls = 0\n",
        "  for i in range(len(first)):\n",
        "        if first[i] == second[i]:\n",
        "            num_bulls += 1 # finish this line of code to make the function function!\n",
        "  return num_bulls"
      ],
      "metadata": {
        "id": "vEsRSe8KxlcF"
      },
      "execution_count": null,
      "outputs": []
    },
    {
      "cell_type": "code",
      "source": [
        "first = [10, 3, 1, 5, 8]\n",
        "second = [90, 2, 1, 3, 8]\n",
        "count_bulls(first,second)"
      ],
      "metadata": {
        "colab": {
          "base_uri": "https://localhost:8080/"
        },
        "id": "TqMKze6x67bc",
        "outputId": "4b222273-fedd-47e8-b957-70803761a0cd"
      },
      "execution_count": null,
      "outputs": [
        {
          "output_type": "execute_result",
          "data": {
            "text/plain": [
              "2"
            ]
          },
          "metadata": {},
          "execution_count": 54
        }
      ]
    },
    {
      "cell_type": "markdown",
      "source": [
        "Add code and/or text chunks below to demonstrate that you have tested your code and that it works correctly."
      ],
      "metadata": {
        "id": "yACJyJtOzE2U"
      }
    },
    {
      "cell_type": "markdown",
      "source": [
        "2. **Count something else:**  \n",
        "To count the cows it will be helpful first to count how many of the elements occur in both strings, without paying attention their positions.\n",
        "Write a function called `count_animals` that takes two lists of the same length, and returns the number of elements of the second list that are also in the first list.  (In the game setting, each such element is either a Bull or a Cow, but don't worry about which is which for this problem.)\n",
        "You may assume the lists do not contain repeated elements, since this will be the case when the function is called in the game.\n",
        "\n",
        "> This time a sample run might look like\n",
        "```\n",
        "first = [11, 3, 17, 5, 1]\n",
        "second = [20, 2, 17, 3, 1]\n",
        "count_animals(first,second)\n",
        "```\n",
        "```\n",
        " 3\n",
        "```\n",
        "\n",
        "This one isn't started for you.  Remember to include a docstring.  This can also be done using a list comprehension, similar to the previous function.\n",
        "\n"
      ],
      "metadata": {
        "id": "aMsOmejkzNVN"
      }
    },
    {
      "cell_type": "code",
      "source": [
        "# define your function here\n",
        "def count_animals(first, second):\n",
        "  '''\n",
        "  this takes two lists and shows how many numbers in the lists are the same.\n",
        "  '''\n",
        "  cows = 0\n",
        "  for num in second:\n",
        "        if num in first:\n",
        "            cows += 1\n",
        "  return cows"
      ],
      "metadata": {
        "id": "yRX219q02e6i"
      },
      "execution_count": null,
      "outputs": []
    },
    {
      "cell_type": "code",
      "source": [
        "first = [11, 3, 17, 5, 1]\n",
        "second = [20, 2, 17, 3, 1]\n",
        "count_animals(first,second)"
      ],
      "metadata": {
        "colab": {
          "base_uri": "https://localhost:8080/"
        },
        "id": "tkT_Zoy8AQn2",
        "outputId": "4d1f19f8-4a5e-4928-8d26-d5febb7b3a44"
      },
      "execution_count": null,
      "outputs": [
        {
          "output_type": "execute_result",
          "data": {
            "text/plain": [
              "3"
            ]
          },
          "metadata": {},
          "execution_count": 56
        }
      ]
    },
    {
      "cell_type": "markdown",
      "source": [
        "Again, demonstrate below that you have tested your code and that it works."
      ],
      "metadata": {
        "id": "HXRNwANS2f-4"
      }
    },
    {
      "cell_type": "markdown",
      "source": [
        "3. **Count the cows:**  \n",
        "Write a function called `count_cows` that counts the cows.  \n",
        "> This time a sample run might look like\n",
        "```\n",
        "first = [11, 3, 17, 5, 1]\n",
        "second = [20, 2, 17, 3, 1]\n",
        "count_cows(first,second)\n",
        "```\n",
        "```\n",
        " 1\n",
        "```\n",
        "*Use the two previously defined functions to help you!  \n",
        "In fact, remember that the only reason we wrote the `count_animals` function was to help count the cows.*\n",
        "\n",
        "You can do this with only two lines of code, not counting documentation!"
      ],
      "metadata": {
        "id": "x2DAPkxj2GMo"
      }
    },
    {
      "cell_type": "code",
      "source": [
        "def count_cows(first, second):\n",
        "  return count_animals(first, second) - count_bulls(first, second)"
      ],
      "metadata": {
        "id": "QnxnaOPI3YZO"
      },
      "execution_count": null,
      "outputs": []
    },
    {
      "cell_type": "code",
      "source": [
        "first = [11, 3, 17, 5, 1]\n",
        "second = [20, 2, 17, 3, 1]\n",
        "count_cows(first,second)"
      ],
      "metadata": {
        "colab": {
          "base_uri": "https://localhost:8080/"
        },
        "id": "Ff2fNtIiCfhm",
        "outputId": "f0119d3f-4c64-496c-928e-9c4416de2d1c"
      },
      "execution_count": null,
      "outputs": [
        {
          "output_type": "execute_result",
          "data": {
            "text/plain": [
              "1"
            ]
          },
          "metadata": {},
          "execution_count": 67
        }
      ]
    },
    {
      "cell_type": "markdown",
      "metadata": {
        "id": "hWQhYDIVYjXr"
      },
      "source": [
        "4. **Create feedback string**  \n",
        "Write a `build_response_str` function that takes three numbers, say `b,c,l`, and outputs a string of total length `l` that consists of `b` B's, followed by `c` C's, and the rest X's (until the total length is `l`).\n",
        "\n",
        "> Sample run:\n",
        "```\n",
        "build_response_str(4,3,9)\n",
        "```\n",
        "```\n",
        "BBBBCCCXX\n",
        "```"
      ]
    },
    {
      "cell_type": "code",
      "source": [
        "def build_response_str(b, c, l):\n",
        "  response = 'B' * b + 'C' * c\n",
        "  response += 'X' * (l - len(response))\n",
        "  return response"
      ],
      "metadata": {
        "id": "GSimWqUsMaPE"
      },
      "execution_count": 127,
      "outputs": []
    },
    {
      "cell_type": "markdown",
      "source": [
        "Test your code here."
      ],
      "metadata": {
        "id": "2D14kxTU7ApH"
      }
    },
    {
      "cell_type": "code",
      "source": [
        "build_response_str(3,5,10)"
      ],
      "metadata": {
        "colab": {
          "base_uri": "https://localhost:8080/",
          "height": 36
        },
        "id": "O3PG1RaAHeI8",
        "outputId": "2e68d48c-a0c6-4bb8-82da-8f7eee01d4f7"
      },
      "execution_count": null,
      "outputs": [
        {
          "output_type": "execute_result",
          "data": {
            "text/plain": [
              "'BBBCCCCCXX'"
            ],
            "application/vnd.google.colaboratory.intrinsic+json": {
              "type": "string"
            }
          },
          "metadata": {},
          "execution_count": 74
        }
      ]
    },
    {
      "cell_type": "markdown",
      "metadata": {
        "id": "omzE6sLKwsMC"
      },
      "source": [
        "5.  **Generate feedback for guesses**  \n",
        "Write a function `response(first,second)` that takes two lists of the same length, and outputs a string consisting of some number of B's followed by some number of C's followed by some number of X's, where the numbers correspond to the things we counted above.  That is, if `first` were the secret code in the game and `second` were the user's guess, then we would print one B for each Bull, one C for each Cow, and one X for each Miss. The total output string should have the same length as the input strings.\n",
        "\n",
        "> Sample run:\n",
        "```\n",
        "first = [11, 3, 17, 5, 1]\n",
        "second = [20, 2, 17, 3, 1]\n",
        "response(first,second)\n",
        "```\n",
        "```\n",
        " BBCXX\n",
        "```\n",
        "\n",
        "With all the functions you've already put in place, this should be simple.  Test your code once it's written.\n"
      ]
    },
    {
      "cell_type": "code",
      "source": [
        "def response(first, second):\n",
        "    b = count_bulls(first, second)\n",
        "    c = count_animals(first, second)\n",
        "    x = count_cows(first, second)\n",
        "    return 'B' * b + 'C' * c + 'X' * x"
      ],
      "metadata": {
        "id": "RD1qq7l783y5"
      },
      "execution_count": null,
      "outputs": []
    },
    {
      "cell_type": "code",
      "source": [
        "first = [11, 3, 17, 5, 1]\n",
        "second = [20, 2, 17, 3, 1]\n",
        "response(first,second)"
      ],
      "metadata": {
        "colab": {
          "base_uri": "https://localhost:8080/",
          "height": 36
        },
        "id": "RG8l7AfPIKie",
        "outputId": "a6d90bfd-329b-4a56-880c-e6c822d69c5a"
      },
      "execution_count": null,
      "outputs": [
        {
          "output_type": "execute_result",
          "data": {
            "text/plain": [
              "'BBCCCX'"
            ],
            "application/vnd.google.colaboratory.intrinsic+json": {
              "type": "string"
            }
          },
          "metadata": {},
          "execution_count": 78
        }
      ]
    },
    {
      "cell_type": "markdown",
      "metadata": {
        "id": "LWshNPjPZJdQ"
      },
      "source": [
        "6.  **Choose the secret code**  \n",
        "The `random` package, and specifically the `sample` sub-package, is useful for generating random samples.  Try running the following lines of code several times.\n",
        "\n"
      ]
    },
    {
      "cell_type": "code",
      "source": [
        "from random import sample\n",
        "\n",
        "sample(range(1,7),4)  # the first argument is the population to be sampled, and the second is the number of samples\n",
        "                      # recall that `range(a,b)` includes `a` but stops at `b-1`"
      ],
      "metadata": {
        "id": "OzEZ5BQZ85jV",
        "colab": {
          "base_uri": "https://localhost:8080/"
        },
        "outputId": "dbb2f543-6136-4673-e561-cba12c10416f"
      },
      "execution_count": 224,
      "outputs": [
        {
          "output_type": "execute_result",
          "data": {
            "text/plain": [
              "[2, 3, 6, 1]"
            ]
          },
          "metadata": {},
          "execution_count": 224
        }
      ]
    },
    {
      "cell_type": "markdown",
      "source": [
        "What type of object is returned by the `sample` function?\n"
      ],
      "metadata": {
        "id": "N1BOe2Xd-kr4"
      }
    },
    {
      "cell_type": "code",
      "source": [
        "# a random set of 4 numbers in the range of 1-7 is returned by the sample function"
      ],
      "metadata": {
        "id": "U5AAu9sG-slX"
      },
      "execution_count": null,
      "outputs": []
    },
    {
      "cell_type": "markdown",
      "source": [],
      "metadata": {
        "id": "yGZw8xFZ-uN4"
      }
    },
    {
      "cell_type": "markdown",
      "source": [
        "7. **Verify the guess**  \n",
        "Finish writing a function called `get_guess` (started below) to prompt the user for a guess and then make sure the input is valid according to the rules of the game.\n",
        "The prompt is already given.  Note that the `list` command converts the input into a list of characters so that it can be passed to the other functions (which are expecting lists).   \n",
        ">**Alert:  you will likely have to think more about data types before this is all over.**"
      ],
      "metadata": {
        "id": "mbK84TdIAVsO"
      }
    },
    {
      "cell_type": "code",
      "source": [
        "def get_guess():\n",
        "  while True:\n",
        "    guess = list(input(\"enter your guess\"))\n",
        "    if len(guess) != 4:\n",
        "        print(\"guess must only be 4 numbers long\")\n",
        "        continue\n",
        "    if guess != list():\n",
        "        print(\"guess must only include numbers\")\n",
        "        continue\n",
        "    return guess"
      ],
      "metadata": {
        "id": "thXbEwDQiDrZ"
      },
      "execution_count": 219,
      "outputs": []
    },
    {
      "cell_type": "code",
      "source": [
        "get_guess()"
      ],
      "metadata": {
        "colab": {
          "base_uri": "https://localhost:8080/",
          "height": 331
        },
        "id": "YVgMaaY-jLhz",
        "outputId": "499b2ae9-31d3-4784-f5e0-ddda4517973a"
      },
      "execution_count": 221,
      "outputs": [
        {
          "output_type": "stream",
          "name": "stdout",
          "text": [
            "enter your guess1,2,3,4,5\n",
            "guess must only be 4 numbers long\n"
          ]
        },
        {
          "output_type": "error",
          "ename": "KeyboardInterrupt",
          "evalue": "Interrupted by user",
          "traceback": [
            "\u001b[0;31m---------------------------------------------------------------------------\u001b[0m",
            "\u001b[0;31mKeyboardInterrupt\u001b[0m                         Traceback (most recent call last)",
            "\u001b[0;32m<ipython-input-221-72131e8414bc>\u001b[0m in \u001b[0;36m<cell line: 1>\u001b[0;34m()\u001b[0m\n\u001b[0;32m----> 1\u001b[0;31m \u001b[0mget_guess\u001b[0m\u001b[0;34m(\u001b[0m\u001b[0;34m)\u001b[0m\u001b[0;34m\u001b[0m\u001b[0;34m\u001b[0m\u001b[0m\n\u001b[0m",
            "\u001b[0;32m<ipython-input-219-9be07c15c4de>\u001b[0m in \u001b[0;36mget_guess\u001b[0;34m()\u001b[0m\n\u001b[1;32m      1\u001b[0m \u001b[0;32mdef\u001b[0m \u001b[0mget_guess\u001b[0m\u001b[0;34m(\u001b[0m\u001b[0;34m)\u001b[0m\u001b[0;34m:\u001b[0m\u001b[0;34m\u001b[0m\u001b[0;34m\u001b[0m\u001b[0m\n\u001b[1;32m      2\u001b[0m   \u001b[0;32mwhile\u001b[0m \u001b[0;32mTrue\u001b[0m\u001b[0;34m:\u001b[0m\u001b[0;34m\u001b[0m\u001b[0;34m\u001b[0m\u001b[0m\n\u001b[0;32m----> 3\u001b[0;31m     \u001b[0mguess\u001b[0m \u001b[0;34m=\u001b[0m \u001b[0mlist\u001b[0m\u001b[0;34m(\u001b[0m\u001b[0minput\u001b[0m\u001b[0;34m(\u001b[0m\u001b[0;34m\"enter your guess\"\u001b[0m\u001b[0;34m)\u001b[0m\u001b[0;34m)\u001b[0m\u001b[0;34m\u001b[0m\u001b[0;34m\u001b[0m\u001b[0m\n\u001b[0m\u001b[1;32m      4\u001b[0m     \u001b[0;32mif\u001b[0m \u001b[0mlen\u001b[0m\u001b[0;34m(\u001b[0m\u001b[0mguess\u001b[0m\u001b[0;34m)\u001b[0m \u001b[0;34m!=\u001b[0m \u001b[0;36m4\u001b[0m\u001b[0;34m:\u001b[0m\u001b[0;34m\u001b[0m\u001b[0;34m\u001b[0m\u001b[0m\n\u001b[1;32m      5\u001b[0m         \u001b[0mprint\u001b[0m\u001b[0;34m(\u001b[0m\u001b[0;34m\"guess must only be 4 numbers long\"\u001b[0m\u001b[0;34m)\u001b[0m\u001b[0;34m\u001b[0m\u001b[0;34m\u001b[0m\u001b[0m\n",
            "\u001b[0;32m/usr/local/lib/python3.10/dist-packages/ipykernel/kernelbase.py\u001b[0m in \u001b[0;36mraw_input\u001b[0;34m(self, prompt)\u001b[0m\n\u001b[1;32m    849\u001b[0m                 \u001b[0;34m\"raw_input was called, but this frontend does not support input requests.\"\u001b[0m\u001b[0;34m\u001b[0m\u001b[0;34m\u001b[0m\u001b[0m\n\u001b[1;32m    850\u001b[0m             )\n\u001b[0;32m--> 851\u001b[0;31m         return self._input_request(str(prompt),\n\u001b[0m\u001b[1;32m    852\u001b[0m             \u001b[0mself\u001b[0m\u001b[0;34m.\u001b[0m\u001b[0m_parent_ident\u001b[0m\u001b[0;34m,\u001b[0m\u001b[0;34m\u001b[0m\u001b[0;34m\u001b[0m\u001b[0m\n\u001b[1;32m    853\u001b[0m             \u001b[0mself\u001b[0m\u001b[0;34m.\u001b[0m\u001b[0m_parent_header\u001b[0m\u001b[0;34m,\u001b[0m\u001b[0;34m\u001b[0m\u001b[0;34m\u001b[0m\u001b[0m\n",
            "\u001b[0;32m/usr/local/lib/python3.10/dist-packages/ipykernel/kernelbase.py\u001b[0m in \u001b[0;36m_input_request\u001b[0;34m(self, prompt, ident, parent, password)\u001b[0m\n\u001b[1;32m    893\u001b[0m             \u001b[0;32mexcept\u001b[0m \u001b[0mKeyboardInterrupt\u001b[0m\u001b[0;34m:\u001b[0m\u001b[0;34m\u001b[0m\u001b[0;34m\u001b[0m\u001b[0m\n\u001b[1;32m    894\u001b[0m                 \u001b[0;31m# re-raise KeyboardInterrupt, to truncate traceback\u001b[0m\u001b[0;34m\u001b[0m\u001b[0;34m\u001b[0m\u001b[0m\n\u001b[0;32m--> 895\u001b[0;31m                 \u001b[0;32mraise\u001b[0m \u001b[0mKeyboardInterrupt\u001b[0m\u001b[0;34m(\u001b[0m\u001b[0;34m\"Interrupted by user\"\u001b[0m\u001b[0;34m)\u001b[0m \u001b[0;32mfrom\u001b[0m \u001b[0;32mNone\u001b[0m\u001b[0;34m\u001b[0m\u001b[0;34m\u001b[0m\u001b[0m\n\u001b[0m\u001b[1;32m    896\u001b[0m             \u001b[0;32mexcept\u001b[0m \u001b[0mException\u001b[0m \u001b[0;32mas\u001b[0m \u001b[0me\u001b[0m\u001b[0;34m:\u001b[0m\u001b[0;34m\u001b[0m\u001b[0;34m\u001b[0m\u001b[0m\n\u001b[1;32m    897\u001b[0m                 \u001b[0mself\u001b[0m\u001b[0;34m.\u001b[0m\u001b[0mlog\u001b[0m\u001b[0;34m.\u001b[0m\u001b[0mwarning\u001b[0m\u001b[0;34m(\u001b[0m\u001b[0;34m\"Invalid Message:\"\u001b[0m\u001b[0;34m,\u001b[0m \u001b[0mexc_info\u001b[0m\u001b[0;34m=\u001b[0m\u001b[0;32mTrue\u001b[0m\u001b[0;34m)\u001b[0m\u001b[0;34m\u001b[0m\u001b[0;34m\u001b[0m\u001b[0m\n",
            "\u001b[0;31mKeyboardInterrupt\u001b[0m: Interrupted by user"
          ]
        }
      ]
    },
    {
      "cell_type": "markdown",
      "source": [
        "As usual, test your code.  What type of objects are we dealing with here?"
      ],
      "metadata": {
        "id": "PSPYpeZYONf0"
      }
    },
    {
      "cell_type": "markdown",
      "source": [
        "8. **Put it all together**  \n",
        "Finally, fill in the details of the function `bulls_cows` below so that it will play the game of Bulls and Cows when called.  Note that the function takes no arguments and returns nothing.\n"
      ],
      "metadata": {
        "id": "WdtvUrA4-uzn"
      }
    },
    {
      "cell_type": "code",
      "execution_count": 210,
      "metadata": {
        "id": "_u48oidGzRKX"
      },
      "outputs": [],
      "source": [
        "from random import sample\n",
        "\n",
        "def bulls_cows():\n",
        "  '''\n",
        "  This function plays the game \"Bulls and Cows.\"\n",
        "  It takes no arguments and returns nothing.\n",
        "  '''\n",
        "  code = sample(range(1,7),4)           # (finish) computer selects the secret code\n",
        "\n",
        "  for i in range(6):                  # user gets a maximum of 6 guesses\n",
        "    guess = response(first,second)      # (finish) run a function to get a guess\n",
        "    if code == guess:\n",
        "      print(\"You guessed it!\")\n",
        "      return\n",
        "    print(response(code,guess))\n",
        "  print(f\"You have run out of guesses. The secret code was {code}.\")\n",
        "  return"
      ]
    },
    {
      "cell_type": "markdown",
      "metadata": {
        "id": "NzjqX_9K3OuV"
      },
      "source": [
        "Play the game a few times below.  Make sure it behaves as you think it should!"
      ]
    },
    {
      "cell_type": "code",
      "execution_count": 212,
      "metadata": {
        "id": "b-HELV-z3OuW",
        "colab": {
          "base_uri": "https://localhost:8080/"
        },
        "outputId": "1824b185-4f24-44c4-aa9b-4f01bb7bf722"
      },
      "outputs": [
        {
          "output_type": "stream",
          "name": "stdout",
          "text": [
            "\n",
            "\n",
            "\n",
            "\n",
            "\n",
            "\n",
            "You have run out of guesses. The secret code was [6, 2, 3, 4].\n"
          ]
        }
      ],
      "source": [
        "bulls_cows()"
      ]
    },
    {
      "cell_type": "code",
      "source": [
        "bulls_cows()"
      ],
      "metadata": {
        "id": "inzOdtimDfGU"
      },
      "execution_count": null,
      "outputs": []
    },
    {
      "cell_type": "code",
      "source": [
        "bulls_cows()"
      ],
      "metadata": {
        "id": "Eqw-5laFDfkG"
      },
      "execution_count": null,
      "outputs": []
    },
    {
      "cell_type": "markdown",
      "source": [
        "9. **Reflect**  \n",
        "Think of at least three ways you could change the rules or setup of the game, and in each case describe (in one sentence, you don't need to write code) what you would have to do to modify your code to play the new version of the game.  Use a text box below for each of your ideas."
      ],
      "metadata": {
        "id": "a58-KCX4ELRO"
      }
    },
    {
      "cell_type": "markdown",
      "source": [
        "(1)"
      ],
      "metadata": {
        "id": "Jof2vIZSEfwo"
      }
    },
    {
      "cell_type": "markdown",
      "source": [
        "(2)"
      ],
      "metadata": {
        "id": "f2_QlBavEiqW"
      }
    },
    {
      "cell_type": "markdown",
      "source": [
        "(3)"
      ],
      "metadata": {
        "id": "sqfq2EFpEjZt"
      }
    }
  ],
  "metadata": {
    "colab": {
      "provenance": [],
      "include_colab_link": true
    },
    "kernelspec": {
      "display_name": "Python 3",
      "name": "python3"
    },
    "language_info": {
      "name": "python"
    }
  },
  "nbformat": 4,
  "nbformat_minor": 0
}