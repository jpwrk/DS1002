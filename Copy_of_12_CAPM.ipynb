{
  "cells": [
    {
      "cell_type": "markdown",
      "metadata": {
        "id": "view-in-github",
        "colab_type": "text"
      },
      "source": [
        "<a href=\"https://colab.research.google.com/github/jpwrk/DS1002/blob/main/Copy_of_12_CAPM.ipynb\" target=\"_parent\"><img src=\"https://colab.research.google.com/assets/colab-badge.svg\" alt=\"Open In Colab\"/></a>"
      ]
    },
    {
      "cell_type": "markdown",
      "metadata": {
        "id": "Pz4oXuFbf1pe"
      },
      "source": [
        "## Capital Asset Pricing Model (CAPM)\n",
        "\n",
        "### Assignment due Monday 22 April at noon\n",
        "\n",
        "---"
      ]
    },
    {
      "cell_type": "markdown",
      "metadata": {
        "id": "K-eHlG5gf1pf"
      },
      "source": [
        "### Objectives\n",
        "\n",
        "This assignment is primarily meant to refresh your numpy and pandas skills.  \n",
        "Technical objectives are discussed below.  \n",
        "\n",
        "- All the usual rules apply:  you may work together (groups of at most 3), make sure all names are easy to find at the top of the submission, submit the link to your working colab notebook\n",
        "\n",
        "\n",
        "### Background\n",
        "\n",
        "In finance, CAPM is a single-factor regression model used for analyzing (and predicting) excess stock returns. There are better, more accurate models, but it has its uses. For example, the *market beta* is a useful output which has something to do with the risk of particular investments.\n",
        "\n",
        "1.  Read [this brief synopsis](https://en.wikipedia.org/wiki/Capital_asset_pricing_model) of CAPM.\n",
        "\n",
        "\n",
        "Don't worry if you don't understand all the terminology.\n",
        "Look for a moment at the main formula (in the \"Formula\" section).  For us that formula will look like this:\n",
        "\n",
        "\\begin{aligned}\n",
        "E(R_A) = R_f + \\beta_A (E(R_{SP}) - R_f)\n",
        "\\end{aligned}\n",
        "\n",
        "Some notes on the symbols in this formula:\n",
        "- The formula is used to estimate $E(R_A)$.  The $E$ here stands for the expected value, and $R_A$ is the rate of return of the investment $A$.\n",
        "- To use this formula, you therefore need to know the values of the other variables.\n",
        "- The variable $R_f$ is the \"risk-free rate,\" which is the amount of return you can get on an investment that has zero risk, like say a bank account.\n",
        "This quantity changes over time but for our purposes we can treat it as a constant.  It is hard-coded into the code below.  Make sure you see where this variable occurs in the formula above.\n",
        "- In this assignment the variable $R_{SP}$ is a measure of the rate of return of the overall market.  (The $E$ on the right side also means expected value.)\n",
        "- The variable $\\beta_A$ measures something about the relative risk of the investment A, relative to the overall market.  The technical objective of this assignment will be to compute $\\beta_A$ below, and then to examine how sensitive it is to the specific data.\n",
        "- The value you get for $\\beta_A$ will be a number.  If it is greater than 1, it means (*very roughly*) that the investment A is more volatile than the overall market.  If it is less than 1, it means that the investment is less volatile than the overall market.  But **do not take this too seriously!** In particular see all the caveats at the wikipedia page.\n",
        "- The A investment in our example is an individual stock (Apple).\n",
        "\n"
      ]
    },
    {
      "cell_type": "markdown",
      "metadata": {
        "id": "bHqzHCZnf1pg"
      },
      "source": [
        "2.  Load the packages and data.  (Note that the following code chunk also hard-codes the constant $R_f$.)  \n",
        "The data lives in the file `capm_market_data` in the `data` folder on the `GitHub` site."
      ]
    },
    {
      "cell_type": "code",
      "execution_count": 3,
      "metadata": {
        "id": "iRPr8YvJf1pg"
      },
      "outputs": [],
      "source": [
        "# load numpy and pandas packages\n",
        "import numpy as np\n",
        "import pandas as pd\n",
        "\n",
        "# get data\n",
        "data = pd.read_csv('./capm_market_data.csv')\n",
        "\n",
        "# risk-free Treasury rate\n",
        "R_f = 0.0175 / 252"
      ]
    },
    {
      "cell_type": "markdown",
      "metadata": {
        "id": "PLXAZx6xf1ph"
      },
      "source": [
        "3.  Look at some records.  \n",
        "SPY is something that mirrors the S&P 500 (\"the market\").  \n",
        "AAPL is the code for Apple stock.  \n",
        "The values are closing prices, adjusted for splits and dividends."
      ]
    },
    {
      "cell_type": "code",
      "execution_count": null,
      "metadata": {
        "id": "747y_ickf1ph"
      },
      "outputs": [],
      "source": []
    },
    {
      "cell_type": "markdown",
      "metadata": {
        "id": "y8uzBoHpf1ph"
      },
      "source": [
        "4.  Drop the date column"
      ]
    },
    {
      "cell_type": "code",
      "execution_count": 4,
      "metadata": {
        "id": "1rUGRXnQf1ph"
      },
      "outputs": [],
      "source": [
        "del data['date']"
      ]
    },
    {
      "cell_type": "markdown",
      "metadata": {
        "id": "fyE1w8F2f1ph"
      },
      "source": [
        "5.  Compute daily returns (percentage changes in price) for both SPY and AAPL.\n",
        "(Be sure to drop the first row of NaN.)  \n",
        "Hint: pandas has functions to easily do this.  \n",
        "Print the first 5 rows of returns.\n"
      ]
    },
    {
      "cell_type": "code",
      "execution_count": 24,
      "metadata": {
        "id": "8aCLOA08f1pi",
        "colab": {
          "base_uri": "https://localhost:8080/"
        },
        "outputId": "6625bebb-4213-4c93-d47c-76c8e3e5142b"
      },
      "outputs": [
        {
          "output_type": "stream",
          "name": "stdout",
          "text": [
            "1   -0.972206\n",
            "2    0.796825\n",
            "3   -0.470303\n",
            "4    1.608619\n",
            "5    2.124092\n",
            "Name: aapl_adj_close, dtype: float64\n"
          ]
        }
      ],
      "source": [
        "_aapl = data['aapl_adj_close'].pct_change()*100\n",
        "final_aapl = _aapl.dropna()\n",
        "print(final_aapl.head())"
      ]
    },
    {
      "cell_type": "code",
      "source": [
        "_spy = data['spy_adj_close'].pct_change()*100\n",
        "final_spy = _spy.dropna()\n",
        "print(final_spy.head())"
      ],
      "metadata": {
        "id": "8iPJsOEf7FRj",
        "colab": {
          "base_uri": "https://localhost:8080/"
        },
        "outputId": "2c3f0783-1dc0-431b-d2cb-c233fb706c7a"
      },
      "execution_count": 25,
      "outputs": [
        {
          "output_type": "stream",
          "name": "stdout",
          "text": [
            "1   -0.757217\n",
            "2    0.381507\n",
            "3   -0.281180\n",
            "4    0.532953\n",
            "5    0.678059\n",
            "Name: spy_adj_close, dtype: float64\n"
          ]
        }
      ]
    },
    {
      "cell_type": "markdown",
      "metadata": {
        "id": "qA51CJQUf1pi"
      },
      "source": [
        "6.  Save the SPY and AAPL returns into separate numpy arrays.  \n",
        "Print the first five values from each of the two arrays.\n"
      ]
    },
    {
      "cell_type": "code",
      "execution_count": 33,
      "metadata": {
        "id": "uTx4aa7of1pi",
        "colab": {
          "base_uri": "https://localhost:8080/"
        },
        "outputId": "644876b0-145b-46d2-eaa1-a0240d044cd2"
      },
      "outputs": [
        {
          "output_type": "stream",
          "name": "stdout",
          "text": [
            "[-0.97220605  0.79682487 -0.47030282  1.60861869  2.12409161]\n"
          ]
        }
      ],
      "source": [
        "aapl_array = final_aapl.to_numpy()\n",
        "print(aapl_array[:5])"
      ]
    },
    {
      "cell_type": "code",
      "source": [
        "spy_array = final_spy.to_numpy()\n",
        "print(spy_array[:5])"
      ],
      "metadata": {
        "colab": {
          "base_uri": "https://localhost:8080/"
        },
        "id": "v8XWLONBkm_Y",
        "outputId": "7a6b0fdb-343e-45c9-c6c9-121402d200ae"
      },
      "execution_count": 34,
      "outputs": [
        {
          "output_type": "stream",
          "name": "stdout",
          "text": [
            "[-0.75721713  0.38150689 -0.28117965  0.53295333  0.67805942]\n"
          ]
        }
      ]
    },
    {
      "cell_type": "markdown",
      "metadata": {
        "id": "SO4C0unXf1pi"
      },
      "source": [
        "7.  Make arrays (one for SPY, one for AAPL) containing the *excess* returns by subtracting the constant $R_f$ from the returns.  \n",
        "(Recall that $R_f$ is the \"risk-free rate\" meaning essentially that you could earn this much in interest if you didn't invest in anything.)  \n",
        "Print the LAST five excess returns from both SPY and AAPL numpy arrays."
      ]
    },
    {
      "cell_type": "code",
      "execution_count": 38,
      "metadata": {
        "id": "o8XOunw5f1pi",
        "colab": {
          "base_uri": "https://localhost:8080/"
        },
        "outputId": "6052ffda-927f-4029-fc30-f115732d4e67"
      },
      "outputs": [
        {
          "output_type": "stream",
          "name": "stdout",
          "text": [
            "[ 0.42996298  0.17485625 -0.46138852  1.6547726   0.68766279]\n",
            "[-0.56936157  1.02098514 -0.86596574  1.29583233  0.91865392]\n"
          ]
        }
      ],
      "source": [
        "subtract_aapl_array = aapl_array - R_f\n",
        "subtract_spy_array = spy_array - R_f\n",
        "print(subtract_aapl_array[-5:])\n",
        "print(subtract_spy_array[-5:])"
      ]
    },
    {
      "cell_type": "markdown",
      "source": [],
      "metadata": {
        "id": "8vqMu_v0l08t"
      }
    },
    {
      "cell_type": "markdown",
      "metadata": {
        "id": "-DUdB1GGf1pi"
      },
      "source": [
        "8. Make a scatterplot with SPY excess returns on the $x$-axis and AAPL excess returns on the $y$-axis.  \n",
        "If you need it, here is the [Matplotlib documentation]( https://matplotlib.org/stable/api/_as_gen/matplotlib.pyplot.scatter.html)."
      ]
    },
    {
      "cell_type": "code",
      "execution_count": 49,
      "metadata": {
        "id": "ucDTjQOmf1pi",
        "colab": {
          "base_uri": "https://localhost:8080/",
          "height": 472
        },
        "outputId": "36f2f7b9-2d24-4845-eeb9-fa520b89d53d"
      },
      "outputs": [
        {
          "output_type": "display_data",
          "data": {
            "text/plain": [
              "<Figure size 640x480 with 1 Axes>"
            ],
            "image/png": "[encoded data removed]"
          },
          "metadata": {}
        }
      ],
      "source": [
        "import matplotlib.pyplot as plt\n",
        "\n",
        "plt.scatter(subtract_spy_array, subtract_aapl_array, color='red')\n",
        "plt.title('SPY Excess Returns vs AAPL Excess Returns')\n",
        "plt.xlabel('SPY Excess Returns')\n",
        "plt.ylabel('AAPL Excess Returns')\n",
        "plt.show()"
      ]
    },
    {
      "cell_type": "markdown",
      "metadata": {
        "id": "LCJPl-d9f1pi"
      },
      "source": [
        "The value of $\\beta_A$ is computed from the arrays you built in problem 7, via a formula that uses some statistical functions called the \"variance\" and the \"covariance.\"\n",
        "\n",
        "Any individual 1-d array of numbers has a variance, which you can compute using `numpy`'s function `var()` (documented [here](https://numpy.org/doc/stable/reference/generated/numpy.var.html)).  This is a number.\n",
        "\n",
        "If you have two 1-d arrays of the same length, they collectively have something called a covariance which `numpy` also can compute using `cov()` (documented [here](https://numpy.org/doc/stable/reference/generated/numpy.cov.html)).\n",
        "\n",
        "The covariance is also a number, but look at what happens when you send two 1-d arrays to `cov()`: it returns a $2\\times 2$ matrix.  (Try it!)  The covariance we are looking for is the number that lives in both the top right and the bottom left of this matrix.  (Those two numbers should be the same.)  The top left and bottom right entries of the covariance matrix also have meaning, but we don't need them.\n",
        "\n"
      ]
    },
    {
      "cell_type": "markdown",
      "source": [
        "9. Use `numpy` functions as described above to compute the estimate of $\\beta_A$, using the following formula:  \n",
        "\\begin{aligned} \\beta_A= \\frac{ \\text{cov}(A,SP) }{ \\text{var}(SP) } \\end{aligned}\n",
        "In our context, A will be the 1-d array you made in problem 7 for AAPL, and SP will be the 1-d array you made for SPY."
      ],
      "metadata": {
        "id": "bb0j7Vi7quGp"
      }
    },
    {
      "cell_type": "code",
      "execution_count": 47,
      "metadata": {
        "id": "blGso0pMf1pj",
        "colab": {
          "base_uri": "https://localhost:8080/"
        },
        "outputId": "c5a59562-b54b-40f3-9901-f9644060135e"
      },
      "outputs": [
        {
          "output_type": "stream",
          "name": "stdout",
          "text": [
            "[[1.41911326 1.09561726]\n",
            " [1.09561726 1.0075188 ]]\n"
          ]
        }
      ],
      "source": [
        "covariance = np.cov(subtract_aapl_array, subtract_spy_array)\n",
        "variance_spy = np.var(subtract_spy_array)\n",
        "BA = covariance / variance_spy\n",
        "print(BA)"
      ]
    },
    {
      "cell_type": "markdown",
      "metadata": {
        "id": "02POpgABf1pj"
      },
      "source": [
        "You should have found that the beta estimate is greater than one.  \n",
        "This means that the volatility of AAPL stock, given the data, and according to this particular (flawed) model,\n",
        "is higher than the volatility of the S&P 500.\n",
        "\n",
        "Bonus:  Is this something you can see on the plot you made?\n",
        "\n"
      ]
    },
    {
      "cell_type": "markdown",
      "source": [],
      "metadata": {
        "id": "aeLasrWag1S4"
      }
    },
    {
      "cell_type": "markdown",
      "metadata": {
        "id": "5jCGs8igf1pj"
      },
      "source": [
        "Finally, let's look at how sensitive the beta is to each data point.   \n",
        "We want to drop each data point (one at a time), compute \\\\(\\hat\\beta_i\\\\) using our formula from above, and save each measurement.\n",
        "\n",
        "This is called *jackknifing*.\n",
        "\n"
      ]
    },
    {
      "cell_type": "markdown",
      "source": [
        "10. Write a function called `beta_sensitivity()` with these specs:\n",
        "\n",
        "- take numpy arrays `x` and `y` as inputs\n",
        "- outputs a list of tuples, so that each tuple contains (observation row dropped, beta estimate)\n",
        "\n",
        "Hint: **np.delete(x, i).reshape(-1,1)** will delete observation i from array x, and make it a column vector"
      ],
      "metadata": {
        "id": "VhlkawRDeV8Z"
      }
    },
    {
      "cell_type": "code",
      "execution_count": 78,
      "metadata": {
        "id": "LyT1XSF8f1pj"
      },
      "outputs": [],
      "source": [
        "def beta_sensitivity(x,y):\n",
        "  sensitivity_list = []\n",
        "  for i in range(len(x)):\n",
        "        x_delete = np.delete(x, i).reshape(-1,1)\n",
        "        y_delete = np.delete(y, i).reshape(-1,1)\n",
        "        cov_xy = np.cov(x_delete, y_delete)\n",
        "        var_x = np.var(x_delete)\n",
        "        beta_estimate = cov_xy / var_x\n",
        "        sensitivity_list.append((i, beta_estimate))\n",
        "  return sensitivity_list"
      ]
    },
    {
      "cell_type": "markdown",
      "metadata": {
        "id": "L9u4bfjtf1pj"
      },
      "source": [
        "11. Call `beta_sensitivity()` on the arrays A and SP from earlier and print the first ten tuples of output."
      ]
    },
    {
      "cell_type": "code",
      "execution_count": 79,
      "metadata": {
        "id": "vaz9ozp6f1pj",
        "colab": {
          "base_uri": "https://localhost:8080/"
        },
        "outputId": "82144609-a8b2-41e8-f4f3-94bcf57917eb"
      },
      "outputs": [
        {
          "output_type": "stream",
          "name": "stdout",
          "text": [
            "[(0, array([[nan, nan, nan, ..., nan, nan, nan],\n",
            "       [nan, nan, nan, ..., nan, nan, nan],\n",
            "       [nan, nan, nan, ..., nan, nan, nan],\n",
            "       ...,\n",
            "       [nan, nan, nan, ..., nan, nan, nan],\n",
            "       [nan, nan, nan, ..., nan, nan, nan],\n",
            "       [nan, nan, nan, ..., nan, nan, nan]])), (1, array([[nan, nan, nan, ..., nan, nan, nan],\n",
            "       [nan, nan, nan, ..., nan, nan, nan],\n",
            "       [nan, nan, nan, ..., nan, nan, nan],\n",
            "       ...,\n",
            "       [nan, nan, nan, ..., nan, nan, nan],\n",
            "       [nan, nan, nan, ..., nan, nan, nan],\n",
            "       [nan, nan, nan, ..., nan, nan, nan]])), (2, array([[nan, nan, nan, ..., nan, nan, nan],\n",
            "       [nan, nan, nan, ..., nan, nan, nan],\n",
            "       [nan, nan, nan, ..., nan, nan, nan],\n",
            "       ...,\n",
            "       [nan, nan, nan, ..., nan, nan, nan],\n",
            "       [nan, nan, nan, ..., nan, nan, nan],\n",
            "       [nan, nan, nan, ..., nan, nan, nan]])), (3, array([[nan, nan, nan, ..., nan, nan, nan],\n",
            "       [nan, nan, nan, ..., nan, nan, nan],\n",
            "       [nan, nan, nan, ..., nan, nan, nan],\n",
            "       ...,\n",
            "       [nan, nan, nan, ..., nan, nan, nan],\n",
            "       [nan, nan, nan, ..., nan, nan, nan],\n",
            "       [nan, nan, nan, ..., nan, nan, nan]])), (4, array([[nan, nan, nan, ..., nan, nan, nan],\n",
            "       [nan, nan, nan, ..., nan, nan, nan],\n",
            "       [nan, nan, nan, ..., nan, nan, nan],\n",
            "       ...,\n",
            "       [nan, nan, nan, ..., nan, nan, nan],\n",
            "       [nan, nan, nan, ..., nan, nan, nan],\n",
            "       [nan, nan, nan, ..., nan, nan, nan]])), (5, array([[nan, nan, nan, ..., nan, nan, nan],\n",
            "       [nan, nan, nan, ..., nan, nan, nan],\n",
            "       [nan, nan, nan, ..., nan, nan, nan],\n",
            "       ...,\n",
            "       [nan, nan, nan, ..., nan, nan, nan],\n",
            "       [nan, nan, nan, ..., nan, nan, nan],\n",
            "       [nan, nan, nan, ..., nan, nan, nan]])), (6, array([[nan, nan, nan, ..., nan, nan, nan],\n",
            "       [nan, nan, nan, ..., nan, nan, nan],\n",
            "       [nan, nan, nan, ..., nan, nan, nan],\n",
            "       ...,\n",
            "       [nan, nan, nan, ..., nan, nan, nan],\n",
            "       [nan, nan, nan, ..., nan, nan, nan],\n",
            "       [nan, nan, nan, ..., nan, nan, nan]])), (7, array([[nan, nan, nan, ..., nan, nan, nan],\n",
            "       [nan, nan, nan, ..., nan, nan, nan],\n",
            "       [nan, nan, nan, ..., nan, nan, nan],\n",
            "       ...,\n",
            "       [nan, nan, nan, ..., nan, nan, nan],\n",
            "       [nan, nan, nan, ..., nan, nan, nan],\n",
            "       [nan, nan, nan, ..., nan, nan, nan]])), (8, array([[nan, nan, nan, ..., nan, nan, nan],\n",
            "       [nan, nan, nan, ..., nan, nan, nan],\n",
            "       [nan, nan, nan, ..., nan, nan, nan],\n",
            "       ...,\n",
            "       [nan, nan, nan, ..., nan, nan, nan],\n",
            "       [nan, nan, nan, ..., nan, nan, nan],\n",
            "       [nan, nan, nan, ..., nan, nan, nan]])), (9, array([[nan, nan, nan, ..., nan, nan, nan],\n",
            "       [nan, nan, nan, ..., nan, nan, nan],\n",
            "       [nan, nan, nan, ..., nan, nan, nan],\n",
            "       ...,\n",
            "       [nan, nan, nan, ..., nan, nan, nan],\n",
            "       [nan, nan, nan, ..., nan, nan, nan],\n",
            "       [nan, nan, nan, ..., nan, nan, nan]]))]\n"
          ]
        },
        {
          "output_type": "stream",
          "name": "stderr",
          "text": [
            "<ipython-input-78-57f2d9b9ecaf>:6: RuntimeWarning: Degrees of freedom <= 0 for slice\n",
            "  cov_xy = np.cov(x_delete, y_delete)\n"
          ]
        }
      ],
      "source": [
        "output = beta_sensitivity(subtract_aapl_array, subtract_spy_array)\n",
        "print(output[:10])"
      ]
    }
  ],
  "metadata": {
    "kernelspec": {
      "display_name": "Python 3.8.9 64-bit",
      "language": "python",
      "name": "python3"
    },
    "language_info": {
      "codemirror_mode": {
        "name": "ipython",
        "version": 3
      },
      "file_extension": ".py",
      "mimetype": "text/x-python",
      "name": "python",
      "nbconvert_exporter": "python",
      "pygments_lexer": "ipython3",
      "version": "3.8.9"
    },
    "vscode": {
      "interpreter": {
        "hash": "31f2aee4e71d21fbe5cf8b01ff0e069b9275f58929596ceb00d14d90e3e16cd6"
      }
    },
    "colab": {
      "provenance": [],
      "include_colab_link": true
    }
  },
  "nbformat": 4,
  "nbformat_minor": 0
}