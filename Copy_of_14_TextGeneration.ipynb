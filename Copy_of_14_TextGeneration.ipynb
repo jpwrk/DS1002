{
  "nbformat": 4,
  "nbformat_minor": 0,
  "metadata": {
    "colab": {
      "provenance": [],
      "include_colab_link": true
    },
    "kernelspec": {
      "name": "python3",
      "display_name": "Python 3"
    },
    "language_info": {
      "name": "python"
    }
  },
  "cells": [
    {
      "cell_type": "markdown",
      "metadata": {
        "id": "view-in-github",
        "colab_type": "text"
      },
      "source": [
        "<a href=\"https://colab.research.google.com/github/jpwrk/DS1002/blob/main/Copy_of_14_TextGeneration.ipynb\" target=\"_parent\"><img src=\"https://colab.research.google.com/assets/colab-badge.svg\" alt=\"Open In Colab\"/></a>"
      ]
    },
    {
      "cell_type": "markdown",
      "source": [
        "## Final homework assignment:  generating text from a corpus\n",
        "\n",
        "Due Friday 3 May at 5 pm"
      ],
      "metadata": {
        "id": "tWbrZqoW5281"
      }
    },
    {
      "cell_type": "markdown",
      "source": [
        "We begin by loading all of Shakespeare's plays into a text file, and separating them into individual words.  This is made easy by the fact that someone already made a giant text file of these plays for us, and put it online.\n",
        "\n",
        "[Note that by changing the url in the following code chunk, you can load any text file that lives online in this way . . . see below.]\n",
        "\n",
        "Run the following code.  It should output a list of ten words, starting with 'From' and ending with 'rose'."
      ],
      "metadata": {
        "id": "7tMMjgkjF7gk"
      }
    },
    {
      "cell_type": "code",
      "source": [
        "from urllib.request import urlopen            #package for reading info from the web\n",
        "url='https://ocw.mit.edu/ans7870/6/6.006/s08/lecturenotes/files/t8.shakespeare.txt'   #web address\n",
        "text = urlopen(url).read().decode('utf-8')    #open web address, read file, convert to text\n",
        "shakespeare_words=text.split()[1651:]         #split text into words (not including preamble)\n",
        "shakespeare_words[:10]                        #display the first 10 words"
      ],
      "metadata": {
        "id": "PoW71ljm2GS-",
        "colab": {
          "base_uri": "https://localhost:8080/"
        },
        "outputId": "6b59151b-b30f-41db-a96d-510fe1178ea7"
      },
      "execution_count": 33,
      "outputs": [
        {
          "output_type": "execute_result",
          "data": {
            "text/plain": [
              "['From',\n",
              " 'fairest',\n",
              " 'creatures',\n",
              " 'we',\n",
              " 'desire',\n",
              " 'increase,',\n",
              " 'That',\n",
              " 'thereby',\n",
              " \"beauty's\",\n",
              " 'rose']"
            ]
          },
          "metadata": {},
          "execution_count": 33
        }
      ]
    },
    {
      "cell_type": "markdown",
      "source": [
        "## 1. `nextwords` practice\n",
        "\n",
        "Create a practice function called `createNextwordsPractice` which takes a list of words called `wordlist` and returns a dictionary called `nextwordsPractice`. The keys of `nextwordsPractice` should be all the words in `wordlist`, and the value for any given key should be a list of all the words that follow the key word somewhere in the original `wordlist`.\n",
        "\n"
      ],
      "metadata": {
        "id": "AIeohQaAHRF8"
      }
    },
    {
      "cell_type": "code",
      "source": [
        "def createNextwordsPractice(wordlist):\n",
        "  nextwordsPractice = {}\n",
        "  for i in range(len(wordlist) - 1):\n",
        "        word = wordlist[i]\n",
        "        word_after = wordlist[i + 1]\n",
        "        if word not in nextwordsPractice:\n",
        "            nextwordsPractice[word] = []\n",
        "        if word_after not in nextwordsPractice[word]:\n",
        "            nextwordsPractice[word].append(word_after)\n",
        "  return nextwordsPractice"
      ],
      "metadata": {
        "id": "2XZa2K3C3InW"
      },
      "execution_count": 36,
      "outputs": []
    },
    {
      "cell_type": "markdown",
      "source": [
        "Run the following code:"
      ],
      "metadata": {
        "id": "FH3N2raWjtfd"
      }
    },
    {
      "cell_type": "code",
      "source": [
        "practice = createNextwordsPractice(shakespeare_words)\n",
        "practice['From']"
      ],
      "metadata": {
        "id": "P3M8beYAjiie",
        "colab": {
          "base_uri": "https://localhost:8080/"
        },
        "outputId": "f89aa898-6214-493e-903d-6a702b2f18eb"
      },
      "execution_count": 38,
      "outputs": [
        {
          "output_type": "execute_result",
          "data": {
            "text/plain": [
              "['fairest',\n",
              " 'his',\n",
              " 'sullen',\n",
              " 'limits',\n",
              " 'hands',\n",
              " 'whence',\n",
              " 'where',\n",
              " 'me',\n",
              " 'this',\n",
              " 'thy',\n",
              " 'hence',\n",
              " 'thee,',\n",
              " 'you',\n",
              " 'heaven',\n",
              " 'her',\n",
              " 'simple',\n",
              " 'below',\n",
              " 'lowest',\n",
              " 'courtly',\n",
              " 'son',\n",
              " 'the',\n",
              " 'Sicyon,',\n",
              " 'Alexandria',\n",
              " 'Silvius,',\n",
              " 'mine',\n",
              " 'firm',\n",
              " 'Egypt',\n",
              " 'Antony',\n",
              " 'thine',\n",
              " 'that',\n",
              " 'my',\n",
              " 'henceforth',\n",
              " 'tyrant',\n",
              " 'seventeen',\n",
              " 'miserable',\n",
              " 'whom',\n",
              " 'whence,',\n",
              " 'slaves',\n",
              " 'every',\n",
              " 'rascals',\n",
              " \"th'\",\n",
              " 'Rome',\n",
              " 'off',\n",
              " 'these',\n",
              " 'twelve',\n",
              " 'whence?',\n",
              " 'Rome.',\n",
              " 'Gallia',\n",
              " 'fairies',\n",
              " 'most',\n",
              " 'youth',\n",
              " 'whose',\n",
              " 'so',\n",
              " 'one',\n",
              " 'east',\n",
              " 'action',\n",
              " 'Leonati',\n",
              " 'chance',\n",
              " 'south',\n",
              " 'our',\n",
              " 'top',\n",
              " 'me,',\n",
              " 'fashion',\n",
              " 'another',\n",
              " 'Hamlet?',\n",
              " \"Rumour's\",\n",
              " 'a',\n",
              " 'enemies',\n",
              " 'open',\n",
              " \"glist'ring\",\n",
              " 'him,',\n",
              " 'camp',\n",
              " 'helmet',\n",
              " 'him',\n",
              " 'Lionel',\n",
              " 'John',\n",
              " 'famous',\n",
              " 'envious',\n",
              " 'thence',\n",
              " 'bought',\n",
              " 'meaning',\n",
              " \"treason's\",\n",
              " 'such',\n",
              " 'thee',\n",
              " 'Ireland',\n",
              " \"Clifford's\",\n",
              " 'your',\n",
              " 'London',\n",
              " 'Scotland',\n",
              " 'worthy',\n",
              " 'giving',\n",
              " 'France?',\n",
              " 'Ravenspurgh',\n",
              " 'shelves',\n",
              " 'those',\n",
              " 'sincere',\n",
              " 'foreign',\n",
              " 'princes',\n",
              " 'any',\n",
              " 'Ampthill,',\n",
              " 'France',\n",
              " 'first',\n",
              " 'north',\n",
              " 'all',\n",
              " 'forth',\n",
              " 'out',\n",
              " 'which',\n",
              " 'what',\n",
              " 'Goneril',\n",
              " 'seasons',\n",
              " 'tawny',\n",
              " \"reason's\",\n",
              " \"women's\",\n",
              " 'morn',\n",
              " 'Fife,',\n",
              " 'over-credulous',\n",
              " 'too',\n",
              " 'fasting',\n",
              " 'thee;',\n",
              " \"flow'ry\",\n",
              " 'Tripolis,',\n",
              " 'Lisbon,',\n",
              " 'brassy',\n",
              " 'stubborn',\n",
              " 'both,',\n",
              " 'time',\n",
              " 'Athens',\n",
              " \"lovers'\",\n",
              " 'Perigouna,',\n",
              " 'sleeping',\n",
              " \"monster's\",\n",
              " 'Claudio,',\n",
              " 'men',\n",
              " 'year',\n",
              " 'jealousy!',\n",
              " 'some',\n",
              " \"Richard's\",\n",
              " 'sun',\n",
              " \"plume-pluck'd\",\n",
              " 'cold',\n",
              " 'wayward',\n",
              " 'Tamworth',\n",
              " 'ancient',\n",
              " \"Love's\",\n",
              " 'Florence,',\n",
              " 'bogs,',\n",
              " 'Milan',\n",
              " 'toe',\n",
              " 'eaves',\n",
              " 'strange',\n",
              " 'Isidore:',\n",
              " 'change',\n",
              " \"gen'ral\",\n",
              " 'high',\n",
              " 'Alcibiades',\n",
              " 'niggard',\n",
              " 'weary',\n",
              " 'thousand',\n",
              " 'heaven!',\n",
              " 'isles',\n",
              " 'Troy.',\n",
              " \"Cupid's\",\n",
              " 'false',\n",
              " 'certain',\n",
              " 'Troy',\n",
              " 'heart',\n",
              " 'hence,',\n",
              " 'Milan.',\n",
              " 'whom?',\n",
              " 'heartiness,',\n",
              " 'east,',\n",
              " 'course',\n",
              " \"Dis's\"]"
            ]
          },
          "metadata": {},
          "execution_count": 38
        }
      ]
    },
    {
      "cell_type": "code",
      "source": [
        "practice['rose']"
      ],
      "metadata": {
        "id": "W5FCOXElICLb",
        "colab": {
          "base_uri": "https://localhost:8080/"
        },
        "outputId": "6e0929ab-73b4-4bdb-feec-e1ff09b7e1a9"
      },
      "execution_count": 39,
      "outputs": [
        {
          "output_type": "execute_result",
          "data": {
            "text/plain": [
              "['might',\n",
              " 'looks',\n",
              " 'is',\n",
              " 'of',\n",
              " 'Of',\n",
              " 'may',\n",
              " 'will',\n",
              " 'From',\n",
              " 'and',\n",
              " 'both',\n",
              " 'with',\n",
              " 'from',\n",
              " 'side.',\n",
              " 'red,',\n",
              " 'too.',\n",
              " 'in',\n",
              " 'a',\n",
              " 'I',\n",
              " 'against',\n",
              " 'that',\n",
              " 'again,',\n",
              " 'Lest',\n",
              " 'Than',\n",
              " \"distill'd\",\n",
              " 'on',\n",
              " 'up',\n",
              " 'wither.',\n",
              " 'By',\n",
              " 'again?',\n",
              " 'he']"
            ]
          },
          "metadata": {},
          "execution_count": 39
        }
      ]
    },
    {
      "cell_type": "code",
      "source": [
        "practice['rose.']"
      ],
      "metadata": {
        "id": "Vr57wNx5BO4K",
        "colab": {
          "base_uri": "https://localhost:8080/"
        },
        "outputId": "0e1c6a25-6e56-48dd-f4fa-df6570da464a"
      },
      "execution_count": 40,
      "outputs": [
        {
          "output_type": "execute_result",
          "data": {
            "text/plain": [
              "['It']"
            ]
          },
          "metadata": {},
          "execution_count": 40
        }
      ]
    },
    {
      "cell_type": "markdown",
      "source": [
        "## 2. `nextwords` for real:  new sentences.\n",
        "\n",
        "Next, write a new function called `createNextwords` which takes a `wordlist` and returns a dictionary of `nextwords`, but now with a new additional feature.  \n",
        "In addition to the keys from problem 1, add a special key to the dictionary, which will be the symbol '%'.  This key will signify the first word of a sentence. When scanning the wordlist to construct the `nextwords` dictionary, normally you would add `wordlist[i+1]` to the list `nextwords[wordlist[i]]`. However, if `wordlist[i]` ends with a period, then you should instead add `wordlist[i+1]` to the list nextwords['%']. Also add the very first word of `wordlist` to nextwords['%'].\n",
        "\n",
        "\n",
        "You should be able to produce this output:\n",
        "```\n",
        "> shakespeare_nextwords=createNextwords(shakespeare_words)\n",
        "> shakespeare_nextwords['Rose']\n",
        "['at', 'or', 'or', 'and']\n",
        "\n",
        "> shakespeare_nextwords['rose.']\n",
        "[]\n",
        "\n",
        "> len(shakespeare_nextwords['%'])\n",
        "76543\n",
        "```"
      ],
      "metadata": {
        "id": "t221x1X3iRVA"
      }
    },
    {
      "cell_type": "code",
      "source": [
        "def createNextwords(wordlist):\n",
        "  nextwords = {}\n",
        "  for i in range(len(wordlist) - 1):\n",
        "    word = wordlist[i]\n",
        "    word_after = wordlist[i + 1]\n",
        "    if word not in nextwords:\n",
        "        nextwords[word] = []\n",
        "    if word.endswith('.'):\n",
        "        if '%' not in nextwords:\n",
        "            nextwords['%'] = []\n",
        "        nextwords['%'].append(word_after)\n",
        "    else:\n",
        "        nextwords[word].append(word_after)\n",
        "  first_word = wordlist[0]\n",
        "  if first_word not in nextwords['%']:\n",
        "        nextwords['%'].append(first_word)\n",
        "  return nextwords"
      ],
      "metadata": {
        "id": "Ze_-Uv2alRWX"
      },
      "execution_count": 65,
      "outputs": []
    },
    {
      "cell_type": "markdown",
      "source": [
        "Run the following code:"
      ],
      "metadata": {
        "id": "x7bamoxBlX6Q"
      }
    },
    {
      "cell_type": "code",
      "source": [
        "shakespeare_nextwords = createNextwords(shakespeare_words)\n",
        "\n",
        "print(shakespeare_nextwords['Rose'])\n",
        "print(len(shakespeare_nextwords['%']))"
      ],
      "metadata": {
        "id": "xv4ANlzvlZ2e",
        "colab": {
          "base_uri": "https://localhost:8080/"
        },
        "outputId": "223fb8c6-bd45-483e-a94a-2d9482c5762e"
      },
      "execution_count": 66,
      "outputs": [
        {
          "output_type": "stream",
          "name": "stdout",
          "text": [
            "['at', 'or', 'or', 'and']\n",
            "76542\n"
          ]
        }
      ]
    },
    {
      "cell_type": "code",
      "source": [
        "print(len(shakespeare_nextwords['rose']))"
      ],
      "metadata": {
        "id": "NsLW7PYYCj1r",
        "colab": {
          "base_uri": "https://localhost:8080/"
        },
        "outputId": "b4b46bf4-235f-4631-e790-831518995037"
      },
      "execution_count": 61,
      "outputs": [
        {
          "output_type": "stream",
          "name": "stdout",
          "text": [
            "40\n"
          ]
        }
      ]
    },
    {
      "cell_type": "code",
      "source": [
        "print(shakespeare_nextwords['rose.'])"
      ],
      "metadata": {
        "id": "NyjLxUKiIPqG",
        "colab": {
          "base_uri": "https://localhost:8080/"
        },
        "outputId": "d308fc37-9c59-4a4d-c693-a75fed2511e8"
      },
      "execution_count": 62,
      "outputs": [
        {
          "output_type": "stream",
          "name": "stdout",
          "text": [
            "[]\n"
          ]
        }
      ]
    },
    {
      "cell_type": "markdown",
      "source": [
        "## 3.  Make your own Shakespeare play\n",
        "\n",
        "Okay, that may be a bit of an exaggeration.  Anyway, next up is text generation.  \n",
        "We'll need the choice function:"
      ],
      "metadata": {
        "id": "BCIAfYSIX3VC"
      }
    },
    {
      "cell_type": "code",
      "source": [
        "from random import choice"
      ],
      "metadata": {
        "id": "rbBHDv55Biae"
      },
      "execution_count": 70,
      "outputs": []
    },
    {
      "cell_type": "markdown",
      "source": [
        "This function chooses a random element from a list.  Run this code a few times:"
      ],
      "metadata": {
        "id": "-vCM3Z0BmAw9"
      }
    },
    {
      "cell_type": "code",
      "source": [
        "choice([1, 17, 34, 289])"
      ],
      "metadata": {
        "colab": {
          "base_uri": "https://localhost:8080/"
        },
        "id": "FGMf-UmAl_uf",
        "outputId": "bdf8b032-4643-47ec-c9ed-d3bce54b6b53"
      },
      "execution_count": 53,
      "outputs": [
        {
          "output_type": "execute_result",
          "data": {
            "text/plain": [
              "17"
            ]
          },
          "metadata": {},
          "execution_count": 53
        }
      ]
    },
    {
      "cell_type": "markdown",
      "source": [
        "Now, create a function called `makePlay(nextwords,n)` which takes a dictionary `nextwords` and a number `n`, and follows these steps:\n",
        "1. Define an empty `newplay` string.  (I did this for you.)\n",
        "2. Set `currentword` equal to '%'.\n",
        "3. Start a for-loop that will run `n` times.\n",
        "4. Randomly choose a word from the list `nextwords[currentword]`.\n",
        "5. Add the chosen word to `newplay`, followed by a space `' '` character.\n",
        "6. If the chosen word ends in a period, add a newline character '\\n' and set `currentword` equal to `%`.\n",
        "7. Otherwise, set `currentword` equal to the chosen word.\n",
        "8. Go back to step 4.\n",
        "9. When all `n` iterations have finished, your function should return `newplay`."
      ],
      "metadata": {
        "id": "ZmLqxclQYMpl"
      }
    },
    {
      "cell_type": "code",
      "source": [
        "def makePlay(nextwords,n):\n",
        "  newplay=''\n",
        "  currentword = '%'\n",
        "  for _ in range(n):\n",
        "    random_word = choice(nextwords[currentword])\n",
        "    newplay += random_word + ' '\n",
        "    if random_word.endswith('.'):\n",
        "        newplay += '\\n'\n",
        "        currentword = '%'\n",
        "    else:\n",
        "        currentword = random_word\n",
        "  return newplay"
      ],
      "metadata": {
        "id": "gMxDF-MiYqD2"
      },
      "execution_count": 74,
      "outputs": []
    },
    {
      "cell_type": "markdown",
      "source": [
        "Now create a 1000 word Shakesperian play by running the following code:"
      ],
      "metadata": {
        "id": "v_uCxqDZtuhP"
      }
    },
    {
      "cell_type": "code",
      "source": [
        "nextwords=createNextwords(shakespeare_words)\n",
        "newplay=makePlay(nextwords,1000)\n",
        "print(newplay)"
      ],
      "metadata": {
        "id": "KVtzPXWWEdDR",
        "colab": {
          "base_uri": "https://localhost:8080/"
        },
        "outputId": "135348ba-625b-4e62-afff-98b0dca0060e"
      },
      "execution_count": 75,
      "outputs": [
        {
          "output_type": "stream",
          "name": "stdout",
          "text": [
            "As victors of my lieutenant? CASSIO. \n",
            "Ho, ho, Abhorson! Where's the world's large and friends,' quoth 'a! Here's he terms Against thy character; the BISHOP OF ILLINOIS BENEDICTINE COLLEGE WITH PERMISSION. \n",
            "PRINCE OF GLOUCESTER and Edward. \n",
            "And let it not, like Muscovites, in her, to hear himself To this day. \n",
            "Not for shame! Confusion's near; I am Of this hateful to Friar [Laurence], with rest, To any other bars bore your industrious servant, Princes. \n",
            "CASSIUS. \n",
            "ELECTRONIC VERSION OF THE COMPLETE WORKS OF THE COMPLETE WORKS OF WILLIAM SHAKESPEARE IS PROVIDED BY PROJECT GUTENBERG ETEXT OF THE COMPLETE WORKS OF ILLINOIS BENEDICTINE COLLEGE WITH PERMISSION. \n",
            "Thus came to be seen to the open field, slain in the hour so whole again; or more reasonable. \n",
            "He had pelleted in Alexandria; you gaze o' th' offended me, and honour would be no inconstant stay, I will do it, Marquis. \n",
            "As we can, I will be made it is nought. \n",
            "And witch That it is a plague injustice and the money thou hast not to't. \n",
            "Caesar fought with your gracious on this havoc more than the best trust; but not so. \n",
            "Sir Toby and thee! KING JOHN. \n",
            "Pardon me, As the lungs, good turn, and that you have rubb'd this famous ancient and Caesar's. \n",
            "AGUECHEEK. \n",
            "[Coming forward] Peace, peace! At all disordered. \n",
            "O, go with our well-found successes as we have quenched in madness! Thoughts are crescent, and undo her. \n",
            "BELARIUS. \n",
            "I will not in the Fairy Queen? O simple! Enter ANTONY, and 'love' and yet, to thy disposition of Normandy. \n",
            "Good meat, our kitchens We stay Till like a glover's paring-knife? SIMPLE. \n",
            "So can dream So all nicety and his deserts; how weary car, And her own person seek it.' FIRST GENTLEMAN. \n",
            "Here, father, Harry, I will answer France. \n",
            "Thus raps you? It shall be good son. \n",
            "ROSALIND. \n",
            "No remedy, It boots thee instantly- thou from Southampton. \n",
            "Ay, my young and mother did, sir; I humbly thank you, And mock us. \n",
            "BERTRAM. \n",
            "As all trades in my messenger. \n",
            "Pol. \n",
            "Before Bordeaux Enter SHALLOW and crave to break mine ancient and in my lord, You something wildly By good man hath my liege's? All comfort in submission as soon We will owe the books, And blind and thou shalt hap may, I'll thither walk off By that thief's company. \n",
            "CLEOPATRA. \n",
            "CROMWELL. \n",
            "I am full as if thou seest me the truth suspected, as a good velvet; thou'rt poor; he justly with him. \n",
            "KING EDWARD. \n",
            "QUEEN. \n",
            "PROHIBITED COMMERCIAL DISTRIBUTION INCLUDES BY ANY SERVICE THAT CHARGES FOR YOUR OR OTHERS PERSONAL USE ONLY, AND IS COPYRIGHT 1990-1993 BY PROJECT GUTENBERG ETEXT OF WINCHESTER, with I love as to old I have false professors! Would not shame most when he bears it whole yet. \n",
            "Farewell. \n",
            "DORSET. \n",
            "O, he's dead. \n",
            "I do know from these be of the well-tun'd horns, enter Edgar [like a sweeter than hanging. \n",
            "A pattern of thy glory, those kin Cry fie upon your worship. \n",
            "Ay, my gentle visitation. \n",
            "Go, bid \"Good morrow, Lieutenant Pistol; stand upon? What if it known unto Paris-ward. \n",
            "ROSALINE. \n",
            "I was proclaimed damsel. \n",
            "o, behold these bounds, bellowing Like empty purses than this the Prince's jester, a pile ten and that would have the which we desire, but offend thee. \n",
            "BRUTUS. \n",
            "LOVELL. \n",
            "Ah, son of Pope hath put on earth. \n",
            "You must needs be hang'd! Hast thou shalt win the cause to eye Dares look upon. \n",
            "PRINCE OF SYRACUSE. \n",
            "CLAUDIO. \n",
            "Say no breath, and hug them at the Turkish loss, to do not, for your purse? Revenge yourselves much for Cyprus. \n",
            "Pedro. \n",
            "AUFIDIUS. \n",
            "No, thou out at these shallow man! ALCIBIADES. \n",
            "When my stars Thron'd and then 'tis before me, never. \n",
            "Lorenzo, certain; for, without teeth. \n",
            "SPEED. \n",
            "I urge his lordship that ever dissembled speaks not I come to scold and seal'd under us, to this foul moles and where bells of it ill. \n",
            "Look where they have led in the furthest inch a piece of thy way thou bear'st thy spoil, Unless she his wealth enough to determine How now, Adam! Exeunt some ill; As oft it please you not, Caius, and wounds upon a famine cling together demonstrated Unto their censure Will it that pass. \n",
            "Alexander the ships could turn their children, seen some reason, It is gracious Duke, look out. \n",
            "Claribel. \n",
            "Hear me sit so no war, Array'd in death), The vent it liv'd from felicity awhile, if you come between, but let all speed, When thou live a calm these three From his act. \n",
            "For as easy For raging broils, Beginning in burning kisses. \n",
            "Alack, alack, Edmund, where's the ladder, and attendants KING EDWARD. \n",
            "PROHIBITED COMMERCIAL DISTRIBUTION INCLUDES BY PROJECT GUTENBERG ETEXT OF FRANCE. \n",
            "BASTARD. \n",
            "KING. \n",
            "Scene I. \n",
            "DROMIO OF CLARENCE (Margaret Plantagenet, Countess of worms, and swearings, and is impossible To give it saw the Frenchman yesterday, for we might water never is strew'd before him half so rough and down; And fire-ey'd fury to it. \n",
            "Take hence the Muskos' regiment, And yet, O appetite, from Rome? What news from a duke, Whose far To be redbreast-teacher. \n",
            "DIANA. \n",
            "Too like a plenitude of mine lov'd me and wind which Takes from the always-wind-obeying deep envious and I'll make vile sort! CHIEF JUSTICE among her bed; yet you and wide cheeks Like enough; would I thank you shall have be-dimm'd The very mercy whilst I have knowledge of my friend, Salerio! Enter the chain; but stand- I am going. \n",
            "My other cross, any grievous sin; And ask you, whose loves thee, friend, and to the comedy, history, report, and fetch the fool. \n",
            "We will to move More to the LORD BARDOLPH. \n",
            "GLOUCESTER. \n",
            "He is the heating of this other's heart. \n",
            "CORIOLANUS. \n",
            "PRINCE. \n",
            "'Tis warm kiss a thought. \n",
            "DROMIO OF FRANCE. \n",
            "I can see that lie. \n",
            "Ay. \n",
            "Let be Diana's altar of love, Means your music, sound, and for such bloody battles join'd, A Norman was't? King. \n",
            "ELECTRONIC VERSION OF WARWICK EARL OF THE COMPLETE WORKS OF ILLINOIS BENEDICTINE COLLEGE WITH PERMISSION. \n",
            "Enter TROILUS following My \n"
          ]
        }
      ]
    },
    {
      "cell_type": "markdown",
      "source": [
        "At this point you might enjoy finding other sources of text on the internet and replacing the url at the top of this notebook. You can use song lyrics, news articles, etc. You just need to find files ending with '.txt'. Alternatively, you can copy and paste any block of text from any file into colab, assign it to the variable `text`, and then use wordlist=text.split() to get a list of words."
      ],
      "metadata": {
        "id": "cHcYHBcNu65y"
      }
    },
    {
      "cell_type": "markdown",
      "source": [
        "## Bonus:\n",
        "\n",
        "Recall the following recursive function that we used to define the Fibonacci numbers:"
      ],
      "metadata": {
        "id": "SOZ_vzwJoG45"
      }
    },
    {
      "cell_type": "code",
      "source": [
        "def fibonacci(n):\n",
        "  # Base cases: F(0) = 0, F(1) = 1\n",
        "  if n == 0:\n",
        "    return 0\n",
        "  elif n == 1:\n",
        "    return 1\n",
        "  else:\n",
        "    # Recursive case: F(n) = F(n-1) + F(n-2)\n",
        "    return fibonacci(n - 1) + fibonacci(n - 2)\n"
      ],
      "metadata": {
        "id": "KTj2L--_oQDu"
      },
      "execution_count": 76,
      "outputs": []
    },
    {
      "cell_type": "markdown",
      "source": [
        "Here is the question.  If you run this line of code:  \n",
        "`fibonacci(17)`  \n",
        "how many times does the function `fibonacci()` get called?  \n",
        "(The answer is not 1597, which is the value returned by the function.)"
      ],
      "metadata": {
        "id": "C-PtiPKwod0m"
      }
    },
    {
      "cell_type": "markdown",
      "source": [
        "17 times"
      ],
      "metadata": {
        "id": "sMzxqP1jSaOh"
      }
    }
  ]
}