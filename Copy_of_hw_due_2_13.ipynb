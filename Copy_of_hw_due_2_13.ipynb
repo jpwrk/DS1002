{
  "nbformat": 4,
  "nbformat_minor": 0,
  "metadata": {
    "colab": {
      "provenance": [],
      "authorship_tag": "ABX9TyMxL/LDkd3T/qx+OE7OGKzQ",
      "include_colab_link": true
    },
    "kernelspec": {
      "name": "python3",
      "display_name": "Python 3"
    },
    "language_info": {
      "name": "python"
    }
  },
  "cells": [
    {
      "cell_type": "markdown",
      "metadata": {
        "id": "view-in-github",
        "colab_type": "text"
      },
      "source": [
        "<a href=\"https://colab.research.google.com/github/jpwrk/DS1002/blob/main/Copy_of_hw_due_2_13.ipynb\" target=\"_parent\"><img src=\"https://colab.research.google.com/assets/colab-badge.svg\" alt=\"Open In Colab\"/></a>"
      ]
    },
    {
      "cell_type": "code",
      "source": [
        "import random\n",
        "import numpy as np\n",
        "def number_game() :\n",
        "  correctAnswer = random.randint(0,100)\n",
        "  while True:\n",
        "    try:\n",
        "      guess = int(input(\"Guess a number between 0 and 100: \"))\n",
        "      if guess > correctAnswer:\n",
        "       print(\"Too high! Try again\")\n",
        "      if guess < correctAnswer:\n",
        "       print(\"Too low! Try again\")\n",
        "      elif guess == correctAnswer:\n",
        "       print(\"Correct! Nice job!\")\n",
        "       break\n",
        "    except ValueError:\n",
        "      print(\"Please enter a viable answer\")\n",
        "\n",
        "number_game()\n"
      ],
      "metadata": {
        "id": "6aq832hgwcQZ",
        "outputId": "d461ba70-3aa0-41e4-cbd4-17e98326e917",
        "colab": {
          "base_uri": "https://localhost:8080/"
        }
      },
      "execution_count": 9,
      "outputs": [
        {
          "output_type": "stream",
          "name": "stdout",
          "text": [
            "Guess a number between 0 and 100: hi\n",
            "Please enter a viable answer\n",
            "Guess a number between 0 and 100: 10\n",
            "Too low! Try again\n",
            "Guess a number between 0 and 100: 50\n",
            "Too low! Try again\n",
            "Guess a number between 0 and 100: 70\n",
            "Too low! Try again\n",
            "Guess a number between 0 and 100: 80\n",
            "Too low! Try again\n",
            "Guess a number between 0 and 100: hi\n",
            "Please enter a viable answer\n",
            "Guess a number between 0 and 100: 90\n",
            "Too low! Try again\n",
            "Guess a number between 0 and 100: 96\n",
            "Too low! Try again\n",
            "Guess a number between 0 and 100: 99\n",
            "Too high! Try again\n",
            "Guess a number between 0 and 100: 98\n",
            "Correct! Nice job!\n"
          ]
        }
      ]
    }
  ]
}