{
  "nbformat": 4,
  "nbformat_minor": 0,
  "metadata": {
    "colab": {
      "provenance": [],
      "authorship_tag": "ABX9TyMxka2G+L3V4tLXbo1AwJFn",
      "include_colab_link": true
    },
    "kernelspec": {
      "name": "python3",
      "display_name": "Python 3"
    },
    "language_info": {
      "name": "python"
    }
  },
  "cells": [
    {
      "cell_type": "markdown",
      "metadata": {
        "id": "view-in-github",
        "colab_type": "text"
      },
      "source": [
        "<a href=\"https://colab.research.google.com/github/jpwrk/DS1002/blob/main/WordsHW.ipynb\" target=\"_parent\"><img src=\"https://colab.research.google.com/assets/colab-badge.svg\" alt=\"Open In Colab\"/></a>"
      ]
    },
    {
      "cell_type": "code",
      "execution_count": null,
      "metadata": {
        "colab": {
          "base_uri": "https://localhost:8080/"
        },
        "id": "_VG1nl7kHG_i",
        "outputId": "b5fe1943-57fd-4bd2-e0b9-aadebcb19bca"
      },
      "outputs": [
        {
          "output_type": "stream",
          "name": "stdout",
          "text": [
            "Requirement already satisfied: english_words in /usr/local/lib/python3.10/dist-packages (2.0.1)\n"
          ]
        }
      ],
      "source": [
        "!pip install english_words\n",
        "from english_words import get_english_words_set\n",
        "words = get_english_words_set(['web2'], lower=True)"
      ]
    },
    {
      "cell_type": "code",
      "source": [
        "wordlist = list(words)\n",
        "wordlist[:10]"
      ],
      "metadata": {
        "colab": {
          "base_uri": "https://localhost:8080/"
        },
        "id": "FwVAsfl_NtRV",
        "outputId": "d7d4a3c7-1abd-4f20-9129-974551fa5f42"
      },
      "execution_count": null,
      "outputs": [
        {
          "output_type": "execute_result",
          "data": {
            "text/plain": [
              "['siderean',\n",
              " 'retch',\n",
              " 'subdecanal',\n",
              " 'mahoe',\n",
              " 'noneternity',\n",
              " 'punctated',\n",
              " 'oxytonize',\n",
              " 'uncabined',\n",
              " 'isoseismical',\n",
              " 'bourbonian']"
            ]
          },
          "metadata": {},
          "execution_count": 2
        }
      ]
    },
    {
      "cell_type": "code",
      "source": [
        "alpha_list = sorted(wordlist)\n",
        "alpha_list[:10]\n"
      ],
      "metadata": {
        "colab": {
          "base_uri": "https://localhost:8080/"
        },
        "id": "g7B1RjxOSpMb",
        "outputId": "76a9d993-95c6-4616-8bc6-65646d6fa0e3"
      },
      "execution_count": null,
      "outputs": [
        {
          "output_type": "execute_result",
          "data": {
            "text/plain": [
              "['a',\n",
              " 'aa',\n",
              " 'aal',\n",
              " 'aalii',\n",
              " 'aam',\n",
              " 'aani',\n",
              " 'aardvark',\n",
              " 'aardwolf',\n",
              " 'aaron',\n",
              " 'aaronic']"
            ]
          },
          "metadata": {},
          "execution_count": 3
        }
      ]
    },
    {
      "cell_type": "code",
      "source": [
        "count = 0\n",
        "for words in alpha_list:\n",
        "  if words.count('q'):\n",
        "    count += 1\n",
        "print(count)"
      ],
      "metadata": {
        "colab": {
          "base_uri": "https://localhost:8080/"
        },
        "id": "RrOxinWVNbpV",
        "outputId": "78f32f3e-97e8-493e-9d86-76bac61b3ac6"
      },
      "execution_count": null,
      "outputs": [
        {
          "output_type": "stream",
          "name": "stdout",
          "text": [
            "3624\n"
          ]
        }
      ]
    },
    {
      "cell_type": "code",
      "source": [
        "count = 0\n",
        "for words in alpha_list:\n",
        "  if words.startswith('a'):\n",
        "    count += 1\n",
        "print(count)\n"
      ],
      "metadata": {
        "colab": {
          "base_uri": "https://localhost:8080/"
        },
        "id": "qyliW8XqK9dP",
        "outputId": "160f27dc-18b2-4a44-8f13-08a8f74020e3"
      },
      "execution_count": null,
      "outputs": [
        {
          "output_type": "stream",
          "name": "stdout",
          "text": [
            "16982\n"
          ]
        }
      ]
    },
    {
      "cell_type": "code",
      "source": [
        "count = 0\n",
        "for words in alpha_list:\n",
        "  if words.count('e') != True:\n",
        "    count += 1\n",
        "print(count)"
      ],
      "metadata": {
        "colab": {
          "base_uri": "https://localhost:8080/"
        },
        "id": "cpZ4mAJWODJ2",
        "outputId": "b0d6c7ce-751f-4696-b3a1-7bbd5765f1ac"
      },
      "execution_count": null,
      "outputs": [
        {
          "output_type": "stream",
          "name": "stdout",
          "text": [
            "138475\n"
          ]
        }
      ]
    },
    {
      "cell_type": "code",
      "source": [
        "import numpy as np"
      ],
      "metadata": {
        "id": "440dH9tUHvi6"
      },
      "execution_count": null,
      "outputs": []
    },
    {
      "cell_type": "code",
      "source": [
        "alpha_array = np.array(alpha_list)\n",
        "wordarray = np.array(wordlist)\n"
      ],
      "metadata": {
        "id": "UqVzoLN_OajZ"
      },
      "execution_count": null,
      "outputs": []
    },
    {
      "cell_type": "code",
      "source": [
        "alphabet = [chr(i) for i in range(ord('a'),ord('z')+1)]\n",
        "#this creates a list called alphabet that contains all the lower case letters in the english alphabet, as seen below)"
      ],
      "metadata": {
        "id": "G6zr5DLfPZyk"
      },
      "execution_count": null,
      "outputs": []
    },
    {
      "cell_type": "code",
      "source": [
        "print(alphabet)"
      ],
      "metadata": {
        "colab": {
          "base_uri": "https://localhost:8080/"
        },
        "id": "j7Jf0FKoQcyI",
        "outputId": "77337c59-4e92-413d-c487-112a65b14302"
      },
      "execution_count": null,
      "outputs": [
        {
          "output_type": "stream",
          "name": "stdout",
          "text": [
            "['a', 'b', 'c', 'd', 'e', 'f', 'g', 'h', 'i', 'j', 'k', 'l', 'm', 'n', 'o', 'p', 'q', 'r', 's', 't', 'u', 'v', 'w', 'x', 'y', 'z']\n"
          ]
        }
      ]
    },
    {
      "cell_type": "code",
      "source": [
        "import matplotlib.pyplot as plt\n",
        "from collections import Counter\n",
        "\n",
        "all_letters = ''.join([word for word in alpha_array])\n",
        "letter_count = Counter(all_letters)\n",
        "letters = list(letter_count.keys())\n",
        "counts = list(letter_count.values())\n",
        "\n",
        "plt.bar(sorted(letters), counts)\n",
        "\n",
        "plt.xlabel('Letters')\n",
        "plt.ylabel('How Many Times the Letter Occurs')\n",
        "plt.title('Letter Occurrences in NumPy Alphabet Array')\n",
        "\n",
        "plt.show()"
      ],
      "metadata": {
        "colab": {
          "base_uri": "https://localhost:8080/",
          "height": 472
        },
        "id": "10ALUeIdTbLj",
        "outputId": "8b929de6-ccdd-4ad7-ca78-3e65120d251a"
      },
      "execution_count": null,
      "outputs": [
        {
          "output_type": "display_data",
          "data": {
            "text/plain": [
              "<Figure size 640x480 with 1 Axes>"
            ],
            "image/png": "[encoded data removed]"
          },
          "metadata": {}
        }
      ]
    },
    {
      "cell_type": "code",
      "source": [
        "sorted(alpha_list, key=len)[-1], sorted(alpha_list, key=len)[-2], sorted(alpha_list, key=len)[-3], sorted(alpha_list, key=len)[-4], sorted(alpha_list, key=len)[-5], sorted(alpha_list, key=len)[-6]"
      ],
      "metadata": {
        "colab": {
          "base_uri": "https://localhost:8080/"
        },
        "id": "WUTz5m2mHONx",
        "outputId": "80c91f9b-f467-48d4-8c13-1dca51a43f76"
      },
      "execution_count": null,
      "outputs": [
        {
          "output_type": "execute_result",
          "data": {
            "text/plain": [
              "('antidisestablishmentarianism',\n",
              " 'thyroparathyroidectomize',\n",
              " 'tetraiodophenolphthalein',\n",
              " 'scientificophilosophical',\n",
              " 'pathologicopsychological',\n",
              " 'formaldehydesulphoxylate')"
            ]
          },
          "metadata": {},
          "execution_count": 12
        }
      ]
    },
    {
      "cell_type": "code",
      "source": [
        "word_lengths = [len(word) for word in alpha_list]\n",
        "\n",
        "plt.hist(word_lengths, bins=range(min(word_lengths), max(word_lengths) + 1))\n",
        "\n",
        "plt.xlabel('Number of Letters in Each Word')\n",
        "plt.ylabel('Frequency of the Word Length')\n",
        "plt.title('Word Lengths Histogram')\n",
        "\n",
        "plt.show()\n",
        "#The most common word length is 9 letters"
      ],
      "metadata": {
        "colab": {
          "base_uri": "https://localhost:8080/",
          "height": 472
        },
        "id": "rJ7mWELGJKgy",
        "outputId": "72dca751-8a42-4533-9328-c3db7760e8ee"
      },
      "execution_count": 26,
      "outputs": [
        {
          "output_type": "display_data",
          "data": {
            "text/plain": [
              "<Figure size 640x480 with 1 Axes>"
            ],
            "image/png": "[encoded data removed]"
          },
          "metadata": {}
        }
      ]
    },
    {
      "cell_type": "code",
      "source": [
        "count = 0\n",
        "for words in alpha_list:\n",
        "  if 'v' in words and 'a' in words:\n",
        "    count += 1\n",
        "print(count)"
      ],
      "metadata": {
        "colab": {
          "base_uri": "https://localhost:8080/"
        },
        "id": "jjSQAwQTNCrR",
        "outputId": "ee118b68-85eb-4b8e-d46b-e43ce77f6466"
      },
      "execution_count": 33,
      "outputs": [
        {
          "output_type": "stream",
          "name": "stdout",
          "text": [
            "11347\n"
          ]
        }
      ]
    },
    {
      "cell_type": "code",
      "source": [
        "count = 0\n",
        "for words in alpha_list:\n",
        "  if 'w' in words and 'l' in words:\n",
        "    count += 1\n",
        "print(count)\n",
        "\n",
        "#both of these took 0 seconds to run, and it only had to loop through the word list once"
      ],
      "metadata": {
        "colab": {
          "base_uri": "https://localhost:8080/"
        },
        "id": "yUVii6mtP4wQ",
        "outputId": "20598359-afac-48be-ab21-23fdd6c2909c"
      },
      "execution_count": 32,
      "outputs": [
        {
          "output_type": "stream",
          "name": "stdout",
          "text": [
            "4822\n"
          ]
        }
      ]
    }
  ]
}